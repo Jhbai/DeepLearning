{
 "cells": [
  {
   "cell_type": "code",
   "execution_count": 1,
   "metadata": {},
   "outputs": [],
   "source": [
    "import numpy as np\n",
    "import pandas as pd"
   ]
  },
  {
   "cell_type": "code",
   "execution_count": 2,
   "metadata": {},
   "outputs": [],
   "source": [
    "Path = 'C:\\\\Users\\\\User' + '\\\\Desktop\\\\ML\\\\'\n",
    "data = list()\n",
    "for i in ['data_X.csv', 'data_T.csv']:\n",
    "    data.append(pd.read_csv(Path + i))"
   ]
  },
  {
   "cell_type": "code",
   "execution_count": 3,
   "metadata": {},
   "outputs": [],
   "source": [
    "data[0]['Intercept'] = [i for i in range(data[0].shape[0])]"
   ]
  },
  {
   "cell_type": "code",
   "execution_count": 4,
   "metadata": {},
   "outputs": [],
   "source": [
    "def inverse_matrix(IN):\n",
    "    matrix = IN.copy()\n",
    "    L = matrix.shape[0]\n",
    "    Blank = np.zeros(matrix.shape)\n",
    "    matrix = np.concatenate((matrix, Blank), axis = 1)\n",
    "    for i in range(L):\n",
    "        for j in range(L):\n",
    "            matrix[i][L+j] = 0\n",
    "    for i in range(L):\n",
    "        matrix[i][L+i] = 1\n",
    "    for i in range(L):\n",
    "        if matrix[i][i] == 0:\n",
    "            for j in range(i+1, L):\n",
    "                if matrix[j][i] != 0:\n",
    "                    for k in range(i, L*2):\n",
    "                        TEMP = matrix[i][k]\n",
    "                        matrix[i][k] = matrix[j][k]\n",
    "                        matrix[j][k] = TEMP\n",
    "                    break\n",
    "        \n",
    "        if matrix[i][i] == 0:\n",
    "            return False\n",
    "        t = matrix[i][i]\n",
    "        for k in range(i, L*2):\n",
    "            matrix[i][k] /= t\n",
    "        \n",
    "        for j in range(L):\n",
    "            if i != j and matrix[j][i] != 0:\n",
    "                t = matrix[j][i];\n",
    "                for k in range(i, L*2):\n",
    "                    matrix[j][k] -= matrix[i][k] * t\n",
    "    return matrix[:, L:]"
   ]
  },
  {
   "cell_type": "markdown",
   "metadata": {},
   "source": [
    "# M = 1"
   ]
  },
  {
   "cell_type": "code",
   "execution_count": 5,
   "metadata": {},
   "outputs": [],
   "source": [
    "Testing_index = np.random.choice([i for i in range(data[0].shape[0])], data[0].shape[0]//4)\n",
    "Training_index = np.array([i for i in range(data[0].shape[0]) if i not in Testing_index])"
   ]
  },
  {
   "cell_type": "code",
   "execution_count": 6,
   "metadata": {},
   "outputs": [],
   "source": [
    "X = data[0].iloc[Training_index]\n",
    "X_T = data[0].iloc[Testing_index]\n",
    "y = data[1].iloc[Training_index]\n",
    "y_T = data[1].iloc[Testing_index]"
   ]
  },
  {
   "cell_type": "code",
   "execution_count": 7,
   "metadata": {},
   "outputs": [],
   "source": [
    "Weights = (inverse_matrix(X.T@X)@X.T)@y\n",
    "Weights.columns = ['Weights']"
   ]
  },
  {
   "cell_type": "code",
   "execution_count": 8,
   "metadata": {},
   "outputs": [
    {
     "name": "stdout",
     "output_type": "stream",
     "text": [
      "Training RMSE = 74592.69206015639\n",
      "Testing  RMSE = 74313.07196361905\n"
     ]
    }
   ],
   "source": [
    "Error = np.sqrt(np.mean((np.array(y) - np.array(X)@np.array(Weights))**2))\n",
    "print('Training RMSE =', Error)\n",
    "\n",
    "Error = np.sqrt(np.mean((np.array(y_T) - np.array(X_T)@np.array(Weights))**2))\n",
    "print('Testing  RMSE =', Error)"
   ]
  },
  {
   "cell_type": "markdown",
   "metadata": {},
   "source": [
    "# M = 2"
   ]
  },
  {
   "cell_type": "code",
   "execution_count": 9,
   "metadata": {},
   "outputs": [],
   "source": [
    "Temp = data[0].copy()\n",
    "for i in range(8):\n",
    "    for j in range(i, 8):\n",
    "        Temp[data[0].columns[i] + ' x '+ data[0].columns[j]] = Temp.iloc[:,i]*Temp.iloc[:,j]"
   ]
  },
  {
   "cell_type": "code",
   "execution_count": 10,
   "metadata": {},
   "outputs": [],
   "source": [
    "X = Temp.iloc[Training_index]\n",
    "X_T = Temp.iloc[Testing_index]\n",
    "y = data[1].iloc[Training_index]\n",
    "y_T = data[1].iloc[Testing_index]"
   ]
  },
  {
   "cell_type": "code",
   "execution_count": 11,
   "metadata": {},
   "outputs": [],
   "source": [
    "Weights = (inverse_matrix(X.T@X)@X.T)@y\n",
    "Weights.columns = ['Weights']"
   ]
  },
  {
   "cell_type": "code",
   "execution_count": 12,
   "metadata": {
    "scrolled": true
   },
   "outputs": [
    {
     "name": "stdout",
     "output_type": "stream",
     "text": [
      "Training RMSE = 63542.6142444412\n",
      "Testing  RMSE = 62811.51670540599\n"
     ]
    }
   ],
   "source": [
    "Error = np.sqrt(np.mean((np.array(y) - np.array(X)@np.array(Weights))**2))\n",
    "print('Training RMSE =', Error)\n",
    "\n",
    "Error = np.sqrt(np.mean((np.array(y_T) - np.array(X_T)@np.array(Weights))**2))\n",
    "print('Testing  RMSE =', Error)"
   ]
  },
  {
   "cell_type": "markdown",
   "metadata": {},
   "source": [
    "# Feature Selection in M = 1"
   ]
  },
  {
   "cell_type": "code",
   "execution_count": 15,
   "metadata": {
    "scrolled": false
   },
   "outputs": [
    {
     "name": "stdout",
     "output_type": "stream",
     "text": [
      "Leave one out: longitude\n",
      "Training RMSE = 75309.3157427582\n",
      "Testing  RMSE = 75018.63251554614\n",
      "-----Pause-----\n",
      "---------------\n",
      "\n",
      "Leave one out: latitude\n",
      "Training RMSE = 75726.61955083928\n",
      "Testing  RMSE = 75462.00348254571\n",
      "-----Pause-----\n",
      "---------------\n",
      "\n",
      "Leave one out: housing_median_age\n",
      "Training RMSE = 77606.0893387879\n",
      "Testing  RMSE = 77733.32731360107\n",
      "-----Pause-----\n",
      "---------------\n",
      "\n",
      "Leave one out: total_rooms\n",
      "Training RMSE = 75211.81022995792\n",
      "Testing  RMSE = 74899.83566510401\n",
      "-----Pause-----\n",
      "---------------\n",
      "\n",
      "Leave one out: total_bedrooms\n",
      "Training RMSE = 74814.22913222929\n",
      "Testing  RMSE = 74535.46059215892\n",
      "-----Pause-----\n",
      "---------------\n",
      "\n",
      "Leave one out: population\n",
      "Training RMSE = 76775.0890820477\n",
      "Testing  RMSE = 76255.93220892637\n",
      "-----Pause-----\n",
      "---------------\n",
      "\n",
      "Leave one out: households\n",
      "Training RMSE = 75107.54179307875\n",
      "Testing  RMSE = 74750.8349374387\n",
      "-----Pause-----\n",
      "---------------\n",
      "\n",
      "Leave one out: median_income\n",
      "Training RMSE = 100462.6792989741\n",
      "Testing  RMSE = 102847.27363933437\n",
      "-----Pause-----\n",
      "---------------\n",
      "\n",
      "Leave one out: Intercept\n",
      "Training RMSE = 74973.87220122699\n",
      "Testing  RMSE = 74632.40714801328\n",
      "-----Pause-----\n",
      "---------------\n",
      "\n"
     ]
    }
   ],
   "source": [
    "for i in range(9):\n",
    "    FS = [j for j in range(9) if j != i]\n",
    "\n",
    "    X = data[0].iloc[Training_index, FS]\n",
    "    X_T = data[0].iloc[Testing_index, FS]\n",
    "    y = data[1].iloc[Training_index]\n",
    "    y_T = data[1].iloc[Testing_index]\n",
    "    \n",
    "    Weights = (inverse_matrix(X.T@X)@X.T)@y\n",
    "    Weights.columns = ['Weights']\n",
    "    \n",
    "    print('Leave one out:', data[0].columns[i])\n",
    "    Error = np.sqrt(np.mean((np.array(y) - np.array(X)@np.array(Weights))**2))\n",
    "    print('Training RMSE =', Error)\n",
    "\n",
    "    Error = np.sqrt(np.mean((np.array(y_T) - np.array(X_T)@np.array(Weights))**2))\n",
    "    print('Testing  RMSE =', Error)\n",
    "    print('-----Pause-----')\n",
    "    print('---------------\\n')"
   ]
  },
  {
   "cell_type": "markdown",
   "metadata": {},
   "source": [
    "# Feature Selection in M = 2"
   ]
  },
  {
   "cell_type": "code",
   "execution_count": 14,
   "metadata": {
    "scrolled": false
   },
   "outputs": [
    {
     "name": "stdout",
     "output_type": "stream",
     "text": [
      "Leave one out: longitude\n",
      "Training RMSE = 63826.11450349602\n",
      "Testing  RMSE = 62868.37268040236\n",
      "-----Pause-----\n",
      "---------------\n",
      "\n",
      "Leave one out: latitude\n",
      "Training RMSE = 63891.93469105949\n",
      "Testing  RMSE = 62947.074864966125\n",
      "-----Pause-----\n",
      "---------------\n",
      "\n",
      "Leave one out: housing_median_age\n",
      "Training RMSE = 63948.09049079788\n",
      "Testing  RMSE = 63303.92413557613\n",
      "-----Pause-----\n",
      "---------------\n",
      "\n",
      "Leave one out: total_rooms\n",
      "Training RMSE = 63636.921668333984\n",
      "Testing  RMSE = 62899.9477495251\n",
      "-----Pause-----\n",
      "---------------\n",
      "\n",
      "Leave one out: total_bedrooms\n",
      "Training RMSE = 63567.08406059728\n",
      "Testing  RMSE = 62849.06206270908\n",
      "-----Pause-----\n",
      "---------------\n",
      "\n",
      "Leave one out: population\n",
      "Training RMSE = 63583.727926172236\n",
      "Testing  RMSE = 62870.92210736042\n",
      "-----Pause-----\n",
      "---------------\n",
      "\n",
      "Leave one out: households\n",
      "Training RMSE = 63574.14469876943\n",
      "Testing  RMSE = 62841.1635902338\n",
      "-----Pause-----\n",
      "---------------\n",
      "\n",
      "Leave one out: median_income\n",
      "Training RMSE = 64082.54789030464\n",
      "Testing  RMSE = 63775.8491393153\n",
      "-----Pause-----\n",
      "---------------\n",
      "\n",
      "Leave one out: Intercept\n",
      "Training RMSE = 63572.12796146589\n",
      "Testing  RMSE = 62849.895314969566\n",
      "-----Pause-----\n",
      "---------------\n",
      "\n",
      "Leave one out: longitude x longitude\n",
      "Training RMSE = 63843.59406870804\n",
      "Testing  RMSE = 62868.78797014586\n",
      "-----Pause-----\n",
      "---------------\n",
      "\n",
      "Leave one out: longitude x latitude\n",
      "Training RMSE = 63919.95931753099\n",
      "Testing  RMSE = 62954.02636645698\n",
      "-----Pause-----\n",
      "---------------\n",
      "\n",
      "Leave one out: longitude x housing_median_age\n",
      "Training RMSE = 63974.55677805483\n",
      "Testing  RMSE = 63356.063572177314\n",
      "-----Pause-----\n",
      "---------------\n",
      "\n",
      "Leave one out: longitude x total_rooms\n",
      "Training RMSE = 63654.03956014245\n",
      "Testing  RMSE = 62936.730969527256\n",
      "-----Pause-----\n",
      "---------------\n",
      "\n",
      "Leave one out: longitude x total_bedrooms\n",
      "Training RMSE = 63584.48637701666\n",
      "Testing  RMSE = 62876.610873569516\n",
      "-----Pause-----\n",
      "---------------\n",
      "\n",
      "Leave one out: longitude x population\n",
      "Training RMSE = 63610.809625584916\n",
      "Testing  RMSE = 62890.138653094575\n",
      "-----Pause-----\n",
      "---------------\n",
      "\n",
      "Leave one out: longitude x households\n",
      "Training RMSE = 63576.399880411256\n",
      "Testing  RMSE = 62843.723049161345\n",
      "-----Pause-----\n",
      "---------------\n",
      "\n",
      "Leave one out: longitude x median_income\n",
      "Training RMSE = 64165.655206168194\n",
      "Testing  RMSE = 63952.212467018115\n",
      "-----Pause-----\n",
      "---------------\n",
      "\n",
      "Leave one out: latitude x latitude\n",
      "Training RMSE = 63927.35468171894\n",
      "Testing  RMSE = 63008.75041861826\n",
      "-----Pause-----\n",
      "---------------\n",
      "\n",
      "Leave one out: latitude x housing_median_age\n",
      "Training RMSE = 64043.1701564829\n",
      "Testing  RMSE = 63448.22934053923\n",
      "-----Pause-----\n",
      "---------------\n",
      "\n",
      "Leave one out: latitude x total_rooms\n",
      "Training RMSE = 63657.37292056105\n",
      "Testing  RMSE = 62980.499727363116\n",
      "-----Pause-----\n",
      "---------------\n",
      "\n",
      "Leave one out: latitude x total_bedrooms\n",
      "Training RMSE = 63611.67425293532\n",
      "Testing  RMSE = 62923.490511181866\n",
      "-----Pause-----\n",
      "---------------\n",
      "\n",
      "Leave one out: latitude x population\n",
      "Training RMSE = 63690.373510679194\n",
      "Testing  RMSE = 62927.85601003691\n",
      "-----Pause-----\n",
      "---------------\n",
      "\n",
      "Leave one out: latitude x households\n",
      "Training RMSE = 63582.513421565185\n",
      "Testing  RMSE = 62849.364845753415\n",
      "-----Pause-----\n",
      "---------------\n",
      "\n",
      "Leave one out: latitude x median_income\n",
      "Training RMSE = 64147.68908924063\n",
      "Testing  RMSE = 64003.52061963918\n",
      "-----Pause-----\n",
      "---------------\n",
      "\n",
      "Leave one out: housing_median_age x housing_median_age\n",
      "Training RMSE = 63628.629153434886\n",
      "Testing  RMSE = 62857.52318215848\n",
      "-----Pause-----\n",
      "---------------\n",
      "\n",
      "Leave one out: housing_median_age x total_rooms\n",
      "Training RMSE = 63547.56428820269\n",
      "Testing  RMSE = 62826.348663497505\n",
      "-----Pause-----\n",
      "---------------\n",
      "\n",
      "Leave one out: housing_median_age x total_bedrooms\n",
      "Training RMSE = 63555.225265875\n",
      "Testing  RMSE = 62839.95920860242\n",
      "-----Pause-----\n",
      "---------------\n",
      "\n",
      "Leave one out: housing_median_age x population\n",
      "Training RMSE = 63839.79187509244\n",
      "Testing  RMSE = 63180.97695133021\n",
      "-----Pause-----\n",
      "---------------\n",
      "\n",
      "Leave one out: housing_median_age x households\n",
      "Training RMSE = 63575.56169559797\n",
      "Testing  RMSE = 62817.335303803186\n",
      "-----Pause-----\n",
      "---------------\n",
      "\n",
      "Leave one out: housing_median_age x median_income\n",
      "Training RMSE = 63599.21151050544\n",
      "Testing  RMSE = 62749.00559408769\n",
      "-----Pause-----\n",
      "---------------\n",
      "\n",
      "Leave one out: total_rooms x total_rooms\n",
      "Training RMSE = 63585.574888485025\n",
      "Testing  RMSE = 62877.26983534949\n",
      "-----Pause-----\n",
      "---------------\n",
      "\n",
      "Leave one out: total_rooms x total_bedrooms\n",
      "Training RMSE = 63583.360363548665\n",
      "Testing  RMSE = 62891.23379300704\n",
      "-----Pause-----\n",
      "---------------\n",
      "\n",
      "Leave one out: total_rooms x population\n",
      "Training RMSE = 63600.25435119472\n",
      "Testing  RMSE = 62848.88055660681\n",
      "-----Pause-----\n",
      "---------------\n",
      "\n",
      "Leave one out: total_rooms x households\n",
      "Training RMSE = 63546.715674245075\n",
      "Testing  RMSE = 62806.9136740696\n",
      "-----Pause-----\n",
      "---------------\n",
      "\n",
      "Leave one out: total_rooms x median_income\n",
      "Training RMSE = 63921.23259513094\n",
      "Testing  RMSE = 63581.855426522205\n",
      "-----Pause-----\n",
      "---------------\n",
      "\n",
      "Leave one out: total_bedrooms x total_bedrooms\n",
      "Training RMSE = 63584.99504188752\n",
      "Testing  RMSE = 62896.49454187206\n",
      "-----Pause-----\n",
      "---------------\n",
      "\n",
      "Leave one out: total_bedrooms x population\n",
      "Training RMSE = 63563.41752797439\n",
      "Testing  RMSE = 62785.03053316064\n",
      "-----Pause-----\n",
      "---------------\n",
      "\n",
      "Leave one out: total_bedrooms x households\n",
      "Training RMSE = 63542.6626802728\n",
      "Testing  RMSE = 62809.72606628233\n",
      "-----Pause-----\n",
      "---------------\n",
      "\n",
      "Leave one out: total_bedrooms x median_income\n",
      "Training RMSE = 63613.86680018107\n",
      "Testing  RMSE = 62988.19537820691\n",
      "-----Pause-----\n",
      "---------------\n",
      "\n",
      "Leave one out: population x population\n",
      "Training RMSE = 63716.50041985027\n",
      "Testing  RMSE = 62953.22122773111\n",
      "-----Pause-----\n",
      "---------------\n",
      "\n",
      "Leave one out: population x households\n",
      "Training RMSE = 63554.84986786119\n",
      "Testing  RMSE = 62788.34262220045\n",
      "-----Pause-----\n",
      "---------------\n",
      "\n",
      "Leave one out: population x median_income\n",
      "Training RMSE = 63587.3486909788\n",
      "Testing  RMSE = 62971.71028168675\n",
      "-----Pause-----\n",
      "---------------\n",
      "\n",
      "Leave one out: households x households\n",
      "Training RMSE = 63544.56144429645\n",
      "Testing  RMSE = 62800.71764569436\n",
      "-----Pause-----\n",
      "---------------\n",
      "\n",
      "Leave one out: households x median_income\n",
      "Training RMSE = 63551.87715584763\n",
      "Testing  RMSE = 62835.242800894455\n",
      "-----Pause-----\n",
      "---------------\n",
      "\n",
      "Leave one out: median_income x median_income\n",
      "Training RMSE = 64291.07721811921\n",
      "Testing  RMSE = 64596.5951474521\n",
      "-----Pause-----\n",
      "---------------\n",
      "\n"
     ]
    }
   ],
   "source": [
    "for i in range(Temp.shape[1]):\n",
    "    FS = [j for j in range(Temp.shape[1]) if j != i]\n",
    "\n",
    "    X = Temp.iloc[Training_index, FS]\n",
    "    X_T = Temp.iloc[Testing_index, FS]\n",
    "    y = data[1].iloc[Training_index]\n",
    "    y_T = data[1].iloc[Testing_index]\n",
    "    \n",
    "    Weights = (inverse_matrix(X.T@X)@X.T)@y\n",
    "    Weights.columns = ['Weights']\n",
    "    \n",
    "    print('Leave one out:', Temp.columns[i])\n",
    "    Error = np.sqrt(np.mean((np.array(y) - np.array(X)@np.array(Weights))**2))\n",
    "    print('Training RMSE =', Error)\n",
    "\n",
    "    Error = np.sqrt(np.mean((np.array(y_T) - np.array(X_T)@np.array(Weights))**2))\n",
    "    print('Testing  RMSE =', Error)\n",
    "    print('-----Pause-----')\n",
    "    print('---------------\\n')"
   ]
  },
  {
   "cell_type": "markdown",
   "metadata": {},
   "source": [
    "# Maximum Likelihood Function - Sigmoid Function"
   ]
  },
  {
   "cell_type": "code",
   "execution_count": 16,
   "metadata": {},
   "outputs": [],
   "source": [
    "X = data[0].iloc[Training_index]\n",
    "X_T = data[0].iloc[Testing_index]\n",
    "y = data[1].iloc[Training_index]\n",
    "y_T = data[1].iloc[Testing_index]"
   ]
  },
  {
   "cell_type": "code",
   "execution_count": 17,
   "metadata": {},
   "outputs": [],
   "source": [
    "Means = np.mean(np.array(X))\n",
    "Standard = np.std(np.array(X))"
   ]
  },
  {
   "cell_type": "code",
   "execution_count": 18,
   "metadata": {},
   "outputs": [],
   "source": [
    "X_Prime = (np.array(X) - Means)/Standard\n",
    "X = 1/(1 + np.exp(-X_Prime))"
   ]
  },
  {
   "cell_type": "code",
   "execution_count": 19,
   "metadata": {},
   "outputs": [],
   "source": [
    "test_Prime = (np.array(X_T) - Means)/Standard\n",
    "X_T = 1/(1 + np.exp(-test_Prime))"
   ]
  },
  {
   "cell_type": "code",
   "execution_count": 20,
   "metadata": {},
   "outputs": [],
   "source": [
    "Weights = (inverse_matrix(X.T@X)@X.T)@y\n",
    "Weights.columns = ['Weights']"
   ]
  },
  {
   "cell_type": "code",
   "execution_count": 22,
   "metadata": {},
   "outputs": [
    {
     "name": "stdout",
     "output_type": "stream",
     "text": [
      "Training RMSE = 71363.64734411935\n",
      "Testing  RMSE = 71325.08428314797\n"
     ]
    }
   ],
   "source": [
    "Error = np.sqrt(np.mean((np.array(y) - np.array(X)@np.array(Weights))**2))\n",
    "print('Training RMSE =', Error)\n",
    "\n",
    "Error = np.sqrt(np.mean((np.array(y_T) - np.array(X_T)@np.array(Weights))**2))\n",
    "print('Testing  RMSE =', Error)"
   ]
  },
  {
   "cell_type": "markdown",
   "metadata": {},
   "source": [
    "# K-fold"
   ]
  },
  {
   "cell_type": "code",
   "execution_count": 27,
   "metadata": {},
   "outputs": [
    {
     "name": "stdout",
     "output_type": "stream",
     "text": [
      "Leave one out: longitude\n",
      "Train → 75105.72155802595 \n",
      "Test → 76823.48551412957\n",
      "-------------Pause-------------\n",
      "Leave one out: latitude\n",
      "Train → 75515.62325979199 \n",
      "Test → 77536.58792849645\n",
      "-------------Pause-------------\n",
      "Leave one out: housing_median_age\n",
      "Train → 77385.92297731082 \n",
      "Test → 79767.73143418424\n",
      "-------------Pause-------------\n",
      "Leave one out: total_rooms\n",
      "Train → 74936.64407884942 \n",
      "Test → 77630.4539926567\n",
      "-------------Pause-------------\n",
      "Leave one out: total_bedrooms\n",
      "Train → 74563.34887646392 \n",
      "Test → 76977.45441077377\n",
      "-------------Pause-------------\n",
      "Leave one out: population\n",
      "Train → 76481.92196968695 \n",
      "Test → 78698.8923348964\n",
      "-------------Pause-------------\n",
      "Leave one out: households\n",
      "Train → 74836.09904940342 \n",
      "Test → 77367.8143956743\n",
      "-------------Pause-------------\n",
      "Leave one out: median_income\n",
      "Train → 100586.95229399188 \n",
      "Test → 107200.00302597361\n",
      "-------------Pause-------------\n",
      "Leave one out: Intercept\n",
      "Train → 74757.72440999425 \n",
      "Test → 75764.83827228847\n",
      "-------------Pause-------------\n"
     ]
    }
   ],
   "source": [
    "k = 10  #設定 K_fold 區塊\n",
    "num_validation_samples = data[0].shape[0] // k # 切割大小\n",
    "\n",
    "Temp = data[0].copy()\n",
    "for i in range(8):\n",
    "    for j in range(i, 8):\n",
    "        Temp[data[0].columns[i] + ' x '+ data[0].columns[j]] = Temp.iloc[:,i]*Temp.iloc[:,j]\n",
    "        \n",
    "Data = pd.concat([Temp, data[1]], axis = 1)\n",
    "\n",
    "for i in range(len(data[0].columns)):\n",
    "    A = 0\n",
    "    B = 0\n",
    "    for fold in range(k):\n",
    "        FS = [j for j in range(len(data[0].columns)) if j != i]\n",
    "        validation_data = Data[num_validation_samples * fold:\\\n",
    "                               num_validation_samples * (fold + 1)]\n",
    "        training_data = pd.concat([Data[:num_validation_samples * fold], Data[num_validation_samples * (fold + 1):]], axis = 0)  #使用剩餘的資料做為訓練資料，+運算子是指串列(list)的連接\n",
    "\n",
    "        X = training_data.iloc[:, FS]\n",
    "        X_T = validation_data.iloc[:, FS]\n",
    "        y = training_data.iloc[:,-1]\n",
    "        y_T = validation_data.iloc[:,-1]\n",
    "        Weights = (inverse_matrix(X.T@X)@X.T)@y\n",
    "        Weights.columns = ['Weights']\n",
    "\n",
    "        Error = np.sqrt(np.mean((np.array(y) - np.array(X)@np.array(Weights))**2))\n",
    "        A += Error\n",
    "\n",
    "        Error = np.sqrt(np.mean((np.array(y_T) - np.array(X_T)@np.array(Weights))**2))\n",
    "        B += Error\n",
    "    print('Leave one out:', data[0].columns[i])\n",
    "    print('Train →', A/k, '\\nTest →', B/k)\n",
    "    print('-------------Pause-------------')"
   ]
  },
  {
   "cell_type": "markdown",
   "metadata": {},
   "source": [
    "# Maximum Posterior Method - Sigmoid Function"
   ]
  },
  {
   "cell_type": "code",
   "execution_count": 28,
   "metadata": {},
   "outputs": [],
   "source": [
    "X = data[0].iloc[Training_index]\n",
    "X_T = data[0].iloc[Testing_index]\n",
    "y = data[1].iloc[Training_index]\n",
    "y_T = data[1].iloc[Testing_index]"
   ]
  },
  {
   "cell_type": "code",
   "execution_count": 29,
   "metadata": {},
   "outputs": [],
   "source": [
    "Means = np.mean(np.array(X))\n",
    "Standard = np.std(np.array(X))"
   ]
  },
  {
   "cell_type": "code",
   "execution_count": 30,
   "metadata": {},
   "outputs": [],
   "source": [
    "X_Prime = (np.array(X) - Means)/Standard\n",
    "X = 1/(1 + np.exp(-X_Prime))"
   ]
  },
  {
   "cell_type": "code",
   "execution_count": 31,
   "metadata": {},
   "outputs": [],
   "source": [
    "test_Prime = (np.array(X_T) - Means)/Standard\n",
    "X_T = 1/(1 + np.exp(-test_Prime))"
   ]
  },
  {
   "cell_type": "code",
   "execution_count": 32,
   "metadata": {},
   "outputs": [],
   "source": [
    "Lambda = 0.001\n",
    "Weights = (inverse_matrix(X.T@X + Lambda*np.identity(len(X.T@X)))@X.T)@y\n",
    "Weights.columns = ['Weights']"
   ]
  },
  {
   "cell_type": "code",
   "execution_count": 33,
   "metadata": {},
   "outputs": [
    {
     "name": "stdout",
     "output_type": "stream",
     "text": [
      "Training RMSE = 97151.18417421695\n",
      "Testing  RMSE = 99862.68750047074\n"
     ]
    }
   ],
   "source": [
    "Error = np.sqrt(np.mean((np.array(y) - np.array(X)@np.array(Weights))**2))\n",
    "print('Training RMSE =', Error)\n",
    "\n",
    "Error = np.sqrt(np.mean((np.array(y_T) - np.array(X_T)@np.array(Weights))**2))\n",
    "print('Testing  RMSE =', Error)"
   ]
  },
  {
   "cell_type": "code",
   "execution_count": null,
   "metadata": {},
   "outputs": [],
   "source": []
  }
 ],
 "metadata": {
  "kernelspec": {
   "display_name": "Python 3",
   "language": "python",
   "name": "python3"
  },
  "language_info": {
   "codemirror_mode": {
    "name": "ipython",
    "version": 3
   },
   "file_extension": ".py",
   "mimetype": "text/x-python",
   "name": "python",
   "nbconvert_exporter": "python",
   "pygments_lexer": "ipython3",
   "version": "3.8.5"
  }
 },
 "nbformat": 4,
 "nbformat_minor": 4
}
