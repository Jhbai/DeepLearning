{
 "cells": [
  {
   "cell_type": "code",
   "execution_count": 1,
   "id": "087c2ca1",
   "metadata": {},
   "outputs": [
    {
     "name": "stderr",
     "output_type": "stream",
     "text": [
      "[nltk_data] Downloading package stopwords to\n",
      "[nltk_data]     /home/309707001/nltk_data...\n",
      "[nltk_data]   Package stopwords is already up-to-date!\n",
      "[nltk_data] Downloading package punkt to /home/309707001/nltk_data...\n",
      "[nltk_data]   Package punkt is already up-to-date!\n"
     ]
    }
   ],
   "source": [
    "import pandas as pd\n",
    "from nltk.tokenize import word_tokenize \n",
    "from nltk.corpus import stopwords\n",
    "import nltk\n",
    "import numpy as np\n",
    "\n",
    "## 處理斷字\n",
    "nltk.download('stopwords')\n",
    "nltk.download('punkt')\n",
    "file = pd.read_csv('DLtrain.csv')\n",
    "enc_sent, dec_sent1, dec_sent2 = list(), list(), list()\n",
    "signs = [',', '-', '.', '!', '\\'', ';', '#']\n",
    "for line in file['Description']:\n",
    "    line = line.lower()\n",
    "    temp = word_tokenize(line)\n",
    "    enc_sent.append([word for word in temp if word[0] not in signs])\n",
    "    temp.insert(0, '<BOL>')\n",
    "    dec_sent1.append([word for word in temp if word[0] not in signs])\n",
    "    temp.remove('<BOL>')\n",
    "    temp.append('<EOL>')\n",
    "    dec_sent2.append([word for word in temp if word[0] not in signs])\n",
    "\n",
    "test = pd.read_csv('test.csv')\n",
    "enc_ts = list()\n",
    "for line in test['Description']:\n",
    "    line = line.lower()\n",
    "    temp = word_tokenize(line)\n",
    "    enc_ts.append([word for word in temp if word[0] not in signs])"
   ]
  },
  {
   "cell_type": "code",
   "execution_count": 3,
   "id": "edf4ae72",
   "metadata": {},
   "outputs": [],
   "source": [
    "A = enc_sent.copy()\n",
    "A.extend(enc_ts.copy())"
   ]
  },
  {
   "cell_type": "code",
   "execution_count": 4,
   "id": "ac46808d",
   "metadata": {},
   "outputs": [],
   "source": [
    "'''\n",
    "en_dict = dict()\n",
    "en_dict['<PAD>'] = 0\n",
    "K = 1\n",
    "for sentence in enc_sent:\n",
    "    for word in sentence:\n",
    "        if word not in en_dict:\n",
    "            en_dict[word] = K\n",
    "            K += 1\n",
    "\n",
    "de_dict = dict()\n",
    "de_dict['<PAD>'] = 0\n",
    "de_dict['<BOL>'] = 1\n",
    "de_dict['<EOL>'] = 2\n",
    "K = 3\n",
    "for sentence in dec_sent1:\n",
    "    for word in sentence:\n",
    "        if word not in de_dict:\n",
    "            de_dict[word] = K\n",
    "            K += 1\n",
    "\n",
    "import torch\n",
    "import torch.nn as nn\n",
    "def data_setting(sentences1, sentences2, sentences3, en_dict, de_dict):\n",
    "    enc_input, dec_input, dec_output = list(), list(), list()\n",
    "    # 文字映射\n",
    "    for idx in range(len(sentences1)):\n",
    "        enc_input.append([en_dict[sentences1[idx][jdx]] if jdx < len(sentences1[idx]) else 0 for jdx in range(100)])\n",
    "        dec_input.append([de_dict[sentences2[idx][jdx]] if jdx < len(sentences2[idx]) else 0 for jdx in range(100)])\n",
    "        dec_output.append([de_dict[sentences3[idx][jdx]] if jdx < len(sentences3[idx]) else 0 for jdx in range(100)])\n",
    "    return torch.LongTensor(enc_input), torch.LongTensor(dec_input), torch.LongTensor(dec_output)\n",
    "enc_input, dec_input, dec_output = data_setting(enc_sent, dec_sent1, dec_sent2, en_dict, de_dict)\n",
    "'''\n",
    "sentences = list()\n",
    "for i in range(len(A)):\n",
    "    sentences.append([A[i][j] if j < len(A[i]) else \"<PAD>\" for j in range(100)])\n",
    "import glove\n",
    "from glove import Glove\n",
    "from glove import Corpus\n",
    "import numpy as np\n",
    "corpus_model = Corpus()\n",
    "corpus_model.fit(sentences, window = 10)\n",
    "glove = Glove(no_components = 512, learning_rate = 0.05)\n",
    "glove.fit(corpus_model.matrix, epochs = 100, no_threads = 40, verbose = False)\n",
    "glove.add_dictionary(corpus_model.dictionary)\n",
    "en_dict = glove.dictionary\n",
    "enc_vector = glove.word_vectors\n",
    "import torch\n",
    "import torch.nn as nn\n",
    "def data_setting(sentences1, en_dict):\n",
    "    enc_input = list()\n",
    "    # 文字映射\n",
    "    for idx in range(len(sentences1)):\n",
    "        enc_input.append([en_dict[sentences1[idx][jdx]] if jdx < len(sentences1[idx]) else en_dict['<PAD>'] for jdx in range(100)])\n",
    "    return torch.LongTensor(enc_input)\n",
    "enc_input = data_setting(enc_sent, en_dict)"
   ]
  },
  {
   "cell_type": "code",
   "execution_count": 5,
   "id": "75b205e7",
   "metadata": {},
   "outputs": [],
   "source": [
    "d_model = 512\n",
    "d_hid = 1024\n",
    "d_key, d_value, d_query = 64, 64, 64\n",
    "n_layer = 3\n",
    "n_head = 2"
   ]
  },
  {
   "cell_type": "code",
   "execution_count": 6,
   "id": "b5484a85",
   "metadata": {},
   "outputs": [],
   "source": [
    "class PositionalEncoding(nn.Module):\n",
    "    def __init__(self, d_model = d_model, dropout = 0.1, N = 10000):\n",
    "        super(PositionalEncoding, self).__init__()\n",
    "        self.dropout = nn.Dropout(p = dropout)\n",
    "        position = np.array([[x/np.power(10000, 2*i/d_model) for i in range(d_model)] if x != 0 else np.zeros(d_model) for x in range(N)])\n",
    "        position[1:, 0::2] = np.sin(position[1:, 0::2])\n",
    "        position[1:, 1::2] = np.cos(position[1:, 1::2])\n",
    "        self.position = torch.FloatTensor(position)\n",
    "    def forward(self, X):\n",
    "        x = torch.clone(X)\n",
    "        x += self.position[:X.shape[1], :]\n",
    "        return self.dropout(x)"
   ]
  },
  {
   "cell_type": "code",
   "execution_count": 7,
   "id": "b514823d",
   "metadata": {},
   "outputs": [],
   "source": [
    "def src_mask(sz):\n",
    "    mask = (torch.triu(torch.ones(sz, sz)) == 1).transpose(0, 1)\n",
    "    mask = mask.float().masked_fill(mask == 0, float('-inf')).masked_fill(mask == 1, float(0.0))\n",
    "    return mask\n",
    "MASK = src_mask(400)"
   ]
  },
  {
   "cell_type": "code",
   "execution_count": 8,
   "id": "074acc8f",
   "metadata": {},
   "outputs": [],
   "source": [
    "#weight = np.random.normal(0, 1, size = (len(en_dict), d_model))\n",
    "#weight = torch.FloatTensor(weight)\n",
    "enc_vector = torch.FloatTensor(enc_vector)"
   ]
  },
  {
   "cell_type": "code",
   "execution_count": 9,
   "id": "abce03bb",
   "metadata": {},
   "outputs": [],
   "source": [
    "class Classification2(nn.Module):\n",
    "    def __init__(self):\n",
    "        super(Classification2, self).__init__()\n",
    "        self.enc_embedding = nn.Embedding.from_pretrained(enc_vector, padding_idx = en_dict['<PAD>'], freeze = True\n",
    "                                                          ,scale_grad_by_freq = True)\n",
    "        #self.dec_embedding = nn.Embedding(len(de_dict), d_model, scale_grad_by_freq = True)\n",
    "        self.pos_embedding = PositionalEncoding()\n",
    "        self.Encoder = nn.TransformerEncoderLayer(d_model = d_model,\n",
    "                                nhead = n_head,\n",
    "                                dim_feedforward = d_hid,\n",
    "                                dropout = 0.1,\n",
    "                                activation = 'relu',\n",
    "                                norm_first = True)\n",
    "        #self.encoder = nn.TransformerEncoder(Encoder, num_layers = 2)\n",
    "        self.Den = nn.Linear(100*d_model, d_hid, bias = True) #(詞向量維度, 字量)\n",
    "        self.Den2 = nn.Linear(d_hid, 4, bias = True) #(詞向量維度, 字量)\n",
    "        self.softmax = nn.Softmax() # 換成機率\n",
    "    def forward(self, enc_input):\n",
    "        x1 = self.enc_embedding(enc_input)  # (2000, 100, 512)\n",
    "        x1 = self.pos_embedding.forward(x1) # (2000, 100, 512)\n",
    "        #x1 = self.pos_embedding.forward(enc_input) # (2000, 100, 512)\n",
    "        enc_output = self.Encoder(x1, src_mask = MASK) # (2000, 100, 512)\n",
    "        enc_output = enc_output.reshape(enc_output.shape[0], -1)\n",
    "        enc_output = nn.Dropout(0.1)(enc_output)\n",
    "        enc_output = nn.ReLU()(self.Den(enc_output)) # (2000, d_hid)\n",
    "        predict = nn.Softmax()(self.Den2(enc_output))\n",
    "        \n",
    "        return predict\n",
    "    \n",
    "def batch(enc_input, target,n):\n",
    "    N = n//4\n",
    "    I = np.random.choice(np.where(target == 0)[0], N, replace = False)\n",
    "    for idx in range(1, 4):\n",
    "        i = np.random.choice(np.where(target == idx)[0], N, replace = False)\n",
    "        I = np.concatenate([I, i], axis = 0)\n",
    "    return enc_input[I], target[I]\n",
    "\n",
    "def tr_ts_split(x, y, p):\n",
    "    n = int(x.shape[0]*p)\n",
    "    N = n//4\n",
    "    I = np.random.choice(np.where(y == 0)[0], N, replace = False)\n",
    "    for idx in range(1, 4):\n",
    "        i = np.random.choice(np.where(y == idx)[0], N, replace = False)\n",
    "        I = np.concatenate([I, i], axis = 0)\n",
    "    II = list(set([i for i in range(x.shape[0])]).difference(set(I)))\n",
    "    return x[I], y[I], x[II], y[II]\n",
    "y = torch.tensor(np.array(file['Category'] - 1))"
   ]
  },
  {
   "cell_type": "code",
   "execution_count": 11,
   "id": "710b7afe",
   "metadata": {
    "scrolled": true
   },
   "outputs": [
    {
     "name": "stderr",
     "output_type": "stream",
     "text": [
      "/tmp/ipykernel_1533739/2751404793.py:26: UserWarning: Implicit dimension choice for softmax has been deprecated. Change the call to include dim=X as an argument.\n",
      "  predict = nn.Softmax()(self.Den2(enc_output))\n"
     ]
    },
    {
     "name": "stdout",
     "output_type": "stream",
     "text": [
      "Epoch 1 --train Loss:1.3873474597930908; Acc:0.26249998807907104 --test Loss1.3878674507141113; Acc0.24250000715255737\n",
      "Epoch 2 --train Loss:1.3916910886764526; Acc:0.25 --test Loss1.3939683437347412; Acc0.25\n",
      "Epoch 3 --train Loss:1.3887661695480347; Acc:0.2824999988079071 --test Loss1.390160322189331; Acc0.2750000059604645\n",
      "Epoch 4 --train Loss:1.388515591621399; Acc:0.26499998569488525 --test Loss1.3904842138290405; Acc0.26750001311302185\n",
      "Epoch 5 --train Loss:1.3878532648086548; Acc:0.25 --test Loss1.388706922531128; Acc0.25\n",
      "Epoch 6 --train Loss:1.3851094245910645; Acc:0.30250000953674316 --test Loss1.3871809244155884; Acc0.2574999928474426\n",
      "Epoch 7 --train Loss:1.3859235048294067; Acc:0.2574999928474426 --test Loss1.3877155780792236; Acc0.25\n",
      "Epoch 8 --train Loss:1.383182168006897; Acc:0.2524999976158142 --test Loss1.384276270866394; Acc0.2549999952316284\n",
      "Epoch 9 --train Loss:1.3841149806976318; Acc:0.2750000059604645 --test Loss1.3850277662277222; Acc0.25999999046325684\n",
      "Epoch 10 --train Loss:1.3826539516448975; Acc:0.2874999940395355 --test Loss1.3856234550476074; Acc0.2775000035762787\n",
      "Epoch 11 --train Loss:1.383958339691162; Acc:0.2750000059604645 --test Loss1.3868155479431152; Acc0.25\n",
      "Epoch 12 --train Loss:1.3797433376312256; Acc:0.29499998688697815 --test Loss1.384742259979248; Acc0.2524999976158142\n",
      "Epoch 13 --train Loss:1.379873514175415; Acc:0.29750001430511475 --test Loss1.384140133857727; Acc0.2574999928474426\n",
      "Epoch 14 --train Loss:1.3817006349563599; Acc:0.3050000071525574 --test Loss1.3833357095718384; Acc0.2849999964237213\n",
      "Epoch 15 --train Loss:1.3819911479949951; Acc:0.2824999988079071 --test Loss1.3833597898483276; Acc0.25999999046325684\n",
      "Epoch 16 --train Loss:1.3781770467758179; Acc:0.3199999928474426 --test Loss1.3824809789657593; Acc0.2750000059604645\n",
      "Epoch 17 --train Loss:1.3801770210266113; Acc:0.3125 --test Loss1.382382869720459; Acc0.3199999928474426\n",
      "Epoch 18 --train Loss:1.3750272989273071; Acc:0.3100000023841858 --test Loss1.383023738861084; Acc0.2775000035762787\n",
      "Epoch 19 --train Loss:1.3792059421539307; Acc:0.2824999988079071 --test Loss1.3842535018920898; Acc0.25999999046325684\n",
      "Epoch 20 --train Loss:1.3756637573242188; Acc:0.2775000035762787 --test Loss1.3804553747177124; Acc0.2775000035762787\n",
      "Epoch 21 --train Loss:1.3739393949508667; Acc:0.3400000035762787 --test Loss1.3804833889007568; Acc0.2874999940395355\n",
      "Epoch 22 --train Loss:1.3781388998031616; Acc:0.2874999940395355 --test Loss1.3819395303726196; Acc0.2775000035762787\n",
      "Epoch 23 --train Loss:1.3794829845428467; Acc:0.30000001192092896 --test Loss1.380569577217102; Acc0.2849999964237213\n",
      "Epoch 24 --train Loss:1.3741415739059448; Acc:0.29750001430511475 --test Loss1.381636619567871; Acc0.26750001311302185\n",
      "Epoch 25 --train Loss:1.3709205389022827; Acc:0.3125 --test Loss1.380405306816101; Acc0.2800000011920929\n",
      "Epoch 26 --train Loss:1.3765698671340942; Acc:0.3050000071525574 --test Loss1.3810104131698608; Acc0.2750000059604645\n",
      "Epoch 27 --train Loss:1.366502046585083; Acc:0.3799999952316284 --test Loss1.3793587684631348; Acc0.30000001192092896\n",
      "Epoch 28 --train Loss:1.3707289695739746; Acc:0.3375000059604645 --test Loss1.376991868019104; Acc0.29499998688697815\n",
      "Epoch 29 --train Loss:1.365452527999878; Acc:0.3675000071525574 --test Loss1.379704236984253; Acc0.28999999165534973\n",
      "Epoch 30 --train Loss:1.369936227798462; Acc:0.3449999988079071 --test Loss1.377286672592163; Acc0.2824999988079071\n",
      "Epoch 31 --train Loss:1.3703700304031372; Acc:0.32499998807907104 --test Loss1.3784348964691162; Acc0.2874999940395355\n",
      "Epoch 32 --train Loss:1.364111304283142; Acc:0.36250001192092896 --test Loss1.3802050352096558; Acc0.3100000023841858\n",
      "Epoch 33 --train Loss:1.3703440427780151; Acc:0.33250001072883606 --test Loss1.3775562047958374; Acc0.28999999165534973\n",
      "Epoch 34 --train Loss:1.3627461194992065; Acc:0.4000000059604645 --test Loss1.3804259300231934; Acc0.2849999964237213\n",
      "Epoch 35 --train Loss:1.3685317039489746; Acc:0.3499999940395355 --test Loss1.3807592391967773; Acc0.2775000035762787\n",
      "Epoch 36 --train Loss:1.3717758655548096; Acc:0.30000001192092896 --test Loss1.3795669078826904; Acc0.2874999940395355\n",
      "Epoch 37 --train Loss:1.3640997409820557; Acc:0.36000001430511475 --test Loss1.3773483037948608; Acc0.2849999964237213\n",
      "Epoch 38 --train Loss:1.3643553256988525; Acc:0.35249999165534973 --test Loss1.3783249855041504; Acc0.26249998807907104\n",
      "Epoch 39 --train Loss:1.357995629310608; Acc:0.39500001072883606 --test Loss1.3786978721618652; Acc0.28999999165534973\n",
      "Epoch 40 --train Loss:1.3644192218780518; Acc:0.3400000035762787 --test Loss1.3729331493377686; Acc0.30000001192092896\n",
      "Epoch 41 --train Loss:1.3669533729553223; Acc:0.36500000953674316 --test Loss1.3788936138153076; Acc0.2549999952316284\n",
      "Epoch 42 --train Loss:1.3634719848632812; Acc:0.3474999964237213 --test Loss1.3779091835021973; Acc0.29249998927116394\n",
      "Epoch 43 --train Loss:1.3554978370666504; Acc:0.36500000953674316 --test Loss1.3769772052764893; Acc0.2824999988079071\n",
      "Epoch 44 --train Loss:1.3604633808135986; Acc:0.35749998688697815 --test Loss1.3746626377105713; Acc0.29249998927116394\n",
      "Epoch 45 --train Loss:1.3597612380981445; Acc:0.32249999046325684 --test Loss1.3710702657699585; Acc0.30000001192092896\n",
      "Epoch 46 --train Loss:1.3573927879333496; Acc:0.3675000071525574 --test Loss1.3727895021438599; Acc0.29750001430511475\n",
      "Epoch 47 --train Loss:1.355521559715271; Acc:0.36500000953674316 --test Loss1.371500849723816; Acc0.3199999928474426\n",
      "Epoch 48 --train Loss:1.358574628829956; Acc:0.3725000023841858 --test Loss1.3770593404769897; Acc0.30250000953674316\n",
      "Epoch 49 --train Loss:1.3567047119140625; Acc:0.36250001192092896 --test Loss1.3784466981887817; Acc0.29750001430511475\n",
      "Epoch 50 --train Loss:1.357155203819275; Acc:0.33250001072883606 --test Loss1.3736786842346191; Acc0.29499998688697815\n",
      "Epoch 51 --train Loss:1.3388497829437256; Acc:0.4124999940395355 --test Loss1.373469591140747; Acc0.3075000047683716\n",
      "Epoch 52 --train Loss:1.3528422117233276; Acc:0.3474999964237213 --test Loss1.3703559637069702; Acc0.3174999952316284\n",
      "Epoch 53 --train Loss:1.3649522066116333; Acc:0.3400000035762787 --test Loss1.3674861192703247; Acc0.3199999928474426\n",
      "Epoch 54 --train Loss:1.3512446880340576; Acc:0.38999998569488525 --test Loss1.3710899353027344; Acc0.3199999928474426\n",
      "Epoch 55 --train Loss:1.3493808507919312; Acc:0.4025000035762787 --test Loss1.3735737800598145; Acc0.2800000011920929\n",
      "Epoch 56 --train Loss:1.359644889831543; Acc:0.3375000059604645 --test Loss1.3659101724624634; Acc0.3400000035762787\n",
      "Epoch 57 --train Loss:1.3495543003082275; Acc:0.3700000047683716 --test Loss1.3766974210739136; Acc0.2800000011920929\n",
      "Epoch 58 --train Loss:1.3607957363128662; Acc:0.33250001072883606 --test Loss1.3701013326644897; Acc0.29750001430511475\n",
      "Epoch 59 --train Loss:1.349645733833313; Acc:0.39250001311302185 --test Loss1.377941608428955; Acc0.29249998927116394\n",
      "Epoch 60 --train Loss:1.3527634143829346; Acc:0.39750000834465027 --test Loss1.3745439052581787; Acc0.3100000023841858\n",
      "Epoch 61 --train Loss:1.351414442062378; Acc:0.375 --test Loss1.3750348091125488; Acc0.2775000035762787\n",
      "Epoch 62 --train Loss:1.3496980667114258; Acc:0.35749998688697815 --test Loss1.3669205904006958; Acc0.32499998807907104\n",
      "Epoch 63 --train Loss:1.3476834297180176; Acc:0.3799999952316284 --test Loss1.3713710308074951; Acc0.2775000035762787\n",
      "Epoch 64 --train Loss:1.3488800525665283; Acc:0.41749998927116394 --test Loss1.3646708726882935; Acc0.32499998807907104\n",
      "Epoch 65 --train Loss:1.344326138496399; Acc:0.4350000023841858 --test Loss1.3732686042785645; Acc0.29750001430511475\n",
      "Epoch 66 --train Loss:1.3443859815597534; Acc:0.4099999964237213 --test Loss1.3690621852874756; Acc0.3199999928474426\n",
      "Epoch 67 --train Loss:1.3388011455535889; Acc:0.42500001192092896 --test Loss1.3679391145706177; Acc0.30000001192092896\n",
      "Epoch 68 --train Loss:1.3475031852722168; Acc:0.3499999940395355 --test Loss1.3685170412063599; Acc0.3199999928474426\n",
      "Epoch 69 --train Loss:1.3476197719573975; Acc:0.4099999964237213 --test Loss1.3651156425476074; Acc0.3174999952316284\n",
      "Epoch 70 --train Loss:1.3489593267440796; Acc:0.4300000071525574 --test Loss1.3694682121276855; Acc0.3125\n",
      "Epoch 71 --train Loss:1.3410289287567139; Acc:0.45249998569488525 --test Loss1.3743177652359009; Acc0.2750000059604645\n"
     ]
    },
    {
     "name": "stdout",
     "output_type": "stream",
     "text": [
      "Epoch 72 --train Loss:1.328117847442627; Acc:0.4375 --test Loss1.3728110790252686; Acc0.2750000059604645\n",
      "Epoch 73 --train Loss:1.3510234355926514; Acc:0.3149999976158142 --test Loss1.3607008457183838; Acc0.3125\n",
      "Epoch 74 --train Loss:1.338011622428894; Acc:0.41999998688697815 --test Loss1.3628698587417603; Acc0.3050000071525574\n",
      "Epoch 75 --train Loss:1.3324161767959595; Acc:0.45500001311302185 --test Loss1.3647369146347046; Acc0.3375000059604645\n",
      "Epoch 76 --train Loss:1.3290705680847168; Acc:0.45500001311302185 --test Loss1.3676315546035767; Acc0.3100000023841858\n",
      "Epoch 77 --train Loss:1.328628659248352; Acc:0.4449999928474426 --test Loss1.3623168468475342; Acc0.3100000023841858\n",
      "Epoch 78 --train Loss:1.3367899656295776; Acc:0.42250001430511475 --test Loss1.3624563217163086; Acc0.3050000071525574\n",
      "Epoch 79 --train Loss:1.3436360359191895; Acc:0.44999998807907104 --test Loss1.3677303791046143; Acc0.3050000071525574\n",
      "Epoch 80 --train Loss:1.3345454931259155; Acc:0.4375 --test Loss1.3708332777023315; Acc0.3125\n",
      "Epoch 81 --train Loss:1.3387395143508911; Acc:0.45249998569488525 --test Loss1.3653390407562256; Acc0.3375000059604645\n",
      "Epoch 82 --train Loss:1.3349151611328125; Acc:0.4025000035762787 --test Loss1.36018705368042; Acc0.3400000035762787\n",
      "Epoch 83 --train Loss:1.3379631042480469; Acc:0.4050000011920929 --test Loss1.361433744430542; Acc0.33000001311302185\n",
      "Epoch 84 --train Loss:1.3314111232757568; Acc:0.4300000071525574 --test Loss1.3612855672836304; Acc0.35749998688697815\n",
      "Epoch 85 --train Loss:1.3410065174102783; Acc:0.3700000047683716 --test Loss1.3670189380645752; Acc0.29750001430511475\n",
      "Epoch 86 --train Loss:1.3281246423721313; Acc:0.4025000035762787 --test Loss1.3591902256011963; Acc0.3075000047683716\n",
      "Epoch 87 --train Loss:1.3339978456497192; Acc:0.42750000953674316 --test Loss1.3592218160629272; Acc0.33000001311302185\n",
      "Epoch 88 --train Loss:1.3338619470596313; Acc:0.4000000059604645 --test Loss1.3538641929626465; Acc0.3174999952316284\n",
      "Epoch 89 --train Loss:1.338558554649353; Acc:0.42250001430511475 --test Loss1.3652971982955933; Acc0.32499998807907104\n",
      "Epoch 90 --train Loss:1.3244335651397705; Acc:0.4650000035762787 --test Loss1.3592135906219482; Acc0.3425000011920929\n",
      "Epoch 91 --train Loss:1.3271273374557495; Acc:0.4699999988079071 --test Loss1.3513036966323853; Acc0.35249999165534973\n",
      "Epoch 92 --train Loss:1.3225778341293335; Acc:0.4675000011920929 --test Loss1.3637077808380127; Acc0.3149999976158142\n",
      "Epoch 93 --train Loss:1.3301483392715454; Acc:0.4449999928474426 --test Loss1.3587749004364014; Acc0.3149999976158142\n",
      "Epoch 94 --train Loss:1.3278532028198242; Acc:0.4625000059604645 --test Loss1.349557638168335; Acc0.36000001430511475\n",
      "Epoch 95 --train Loss:1.3212149143218994; Acc:0.4925000071525574 --test Loss1.3618015050888062; Acc0.32249999046325684\n",
      "Epoch 96 --train Loss:1.3080620765686035; Acc:0.5425000190734863 --test Loss1.357142686843872; Acc0.35749998688697815\n",
      "Epoch 97 --train Loss:1.323276400566101; Acc:0.4650000035762787 --test Loss1.350854754447937; Acc0.38999998569488525\n",
      "Epoch 98 --train Loss:1.327508807182312; Acc:0.45500001311302185 --test Loss1.35807204246521; Acc0.35499998927116394\n",
      "Epoch 99 --train Loss:1.3057864904403687; Acc:0.5249999761581421 --test Loss1.3539013862609863; Acc0.3499999940395355\n",
      "Epoch 100 --train Loss:1.3162944316864014; Acc:0.46000000834465027 --test Loss1.3592106103897095; Acc0.32749998569488525\n",
      "Epoch 101 --train Loss:1.2987135648727417; Acc:0.550000011920929 --test Loss1.356205940246582; Acc0.3675000071525574\n",
      "Epoch 102 --train Loss:1.3084887266159058; Acc:0.4749999940395355 --test Loss1.3493822813034058; Acc0.36000001430511475\n",
      "Epoch 103 --train Loss:1.3246712684631348; Acc:0.4675000011920929 --test Loss1.3484541177749634; Acc0.3375000059604645\n",
      "Epoch 104 --train Loss:1.3119813203811646; Acc:0.5199999809265137 --test Loss1.3524980545043945; Acc0.3449999988079071\n",
      "Epoch 105 --train Loss:1.3013018369674683; Acc:0.5199999809265137 --test Loss1.3442120552062988; Acc0.4025000035762787\n",
      "Epoch 106 --train Loss:1.3097728490829468; Acc:0.4975000023841858 --test Loss1.3523929119110107; Acc0.3499999940395355\n",
      "Epoch 107 --train Loss:1.3164409399032593; Acc:0.4749999940395355 --test Loss1.3518173694610596; Acc0.35749998688697815\n",
      "Epoch 108 --train Loss:1.2973086833953857; Acc:0.512499988079071 --test Loss1.3472665548324585; Acc0.32749998569488525\n",
      "Epoch 109 --train Loss:1.2992793321609497; Acc:0.5224999785423279 --test Loss1.3423420190811157; Acc0.3774999976158142\n",
      "Epoch 110 --train Loss:1.2833590507507324; Acc:0.5425000190734863 --test Loss1.338315725326538; Acc0.4099999964237213\n",
      "Epoch 111 --train Loss:1.3040533065795898; Acc:0.4925000071525574 --test Loss1.3416528701782227; Acc0.38499999046325684\n",
      "Epoch 112 --train Loss:1.3127045631408691; Acc:0.5274999737739563 --test Loss1.338088870048523; Acc0.39750000834465027\n",
      "Epoch 113 --train Loss:1.3029285669326782; Acc:0.5099999904632568 --test Loss1.3411533832550049; Acc0.39250001311302185\n",
      "Epoch 114 --train Loss:1.3018569946289062; Acc:0.45750001072883606 --test Loss1.3388915061950684; Acc0.39250001311302185\n",
      "Epoch 115 --train Loss:1.316593885421753; Acc:0.42250001430511475 --test Loss1.3559176921844482; Acc0.3425000011920929\n",
      "Epoch 116 --train Loss:1.2957203388214111; Acc:0.5425000190734863 --test Loss1.3543068170547485; Acc0.32249999046325684\n",
      "Epoch 117 --train Loss:1.2908040285110474; Acc:0.5199999809265137 --test Loss1.3483277559280396; Acc0.375\n",
      "Epoch 118 --train Loss:1.28267240524292; Acc:0.5249999761581421 --test Loss1.3462786674499512; Acc0.35249999165534973\n",
      "Epoch 119 --train Loss:1.2824934720993042; Acc:0.5224999785423279 --test Loss1.330358862876892; Acc0.4300000071525574\n",
      "Epoch 120 --train Loss:1.2934997081756592; Acc:0.5274999737739563 --test Loss1.3269613981246948; Acc0.4350000023841858\n",
      "Epoch 121 --train Loss:1.2932647466659546; Acc:0.5375000238418579 --test Loss1.3367767333984375; Acc0.38749998807907104\n",
      "Epoch 122 --train Loss:1.294460654258728; Acc:0.48500001430511475 --test Loss1.3348329067230225; Acc0.39250001311302185\n",
      "Epoch 123 --train Loss:1.293919324874878; Acc:0.4950000047683716 --test Loss1.3303985595703125; Acc0.38749998807907104\n",
      "Epoch 124 --train Loss:1.2940950393676758; Acc:0.5049999952316284 --test Loss1.3338185548782349; Acc0.39250001311302185\n",
      "Epoch 125 --train Loss:1.2818297147750854; Acc:0.4950000047683716 --test Loss1.3309437036514282; Acc0.4099999964237213\n",
      "Epoch 126 --train Loss:1.273754596710205; Acc:0.5299999713897705 --test Loss1.3198448419570923; Acc0.44749999046325684\n",
      "Epoch 127 --train Loss:1.2746833562850952; Acc:0.5074999928474426 --test Loss1.3313767910003662; Acc0.4000000059604645\n",
      "Epoch 128 --train Loss:1.2926439046859741; Acc:0.5 --test Loss1.332348346710205; Acc0.3824999928474426\n",
      "Epoch 129 --train Loss:1.279641032218933; Acc:0.5099999904632568 --test Loss1.3469526767730713; Acc0.3449999988079071\n",
      "Epoch 130 --train Loss:1.2828375101089478; Acc:0.5049999952316284 --test Loss1.3207758665084839; Acc0.42500001192092896\n",
      "Epoch 131 --train Loss:1.2864054441452026; Acc:0.48500001430511475 --test Loss1.3228987455368042; Acc0.41749998927116394\n",
      "Epoch 132 --train Loss:1.281308889389038; Acc:0.4724999964237213 --test Loss1.336408257484436; Acc0.3799999952316284\n",
      "Epoch 133 --train Loss:1.244552731513977; Acc:0.5950000286102295 --test Loss1.328145146369934; Acc0.4449999928474426\n",
      "Epoch 134 --train Loss:1.2988901138305664; Acc:0.4724999964237213 --test Loss1.32845139503479; Acc0.4050000011920929\n",
      "Epoch 135 --train Loss:1.2787660360336304; Acc:0.5099999904632568 --test Loss1.3111584186553955; Acc0.45249998569488525\n",
      "Epoch 136 --train Loss:1.268975019454956; Acc:0.4925000071525574 --test Loss1.3210030794143677; Acc0.4025000035762787\n",
      "Epoch 137 --train Loss:1.279875636100769; Acc:0.4975000023841858 --test Loss1.323478102684021; Acc0.41499999165534973\n",
      "Epoch 138 --train Loss:1.26093590259552; Acc:0.5099999904632568 --test Loss1.3148436546325684; Acc0.44749999046325684\n",
      "Epoch 139 --train Loss:1.2565821409225464; Acc:0.5375000238418579 --test Loss1.3244271278381348; Acc0.39750000834465027\n",
      "Epoch 140 --train Loss:1.2526897192001343; Acc:0.5874999761581421 --test Loss1.3220123052597046; Acc0.4025000035762787\n",
      "Epoch 141 --train Loss:1.2643673419952393; Acc:0.49000000953674316 --test Loss1.3352558612823486; Acc0.3799999952316284\n"
     ]
    },
    {
     "name": "stdout",
     "output_type": "stream",
     "text": [
      "Epoch 142 --train Loss:1.276064395904541; Acc:0.45500001311302185 --test Loss1.3168740272521973; Acc0.3824999928474426\n",
      "Epoch 143 --train Loss:1.249513864517212; Acc:0.4699999988079071 --test Loss1.3329464197158813; Acc0.3725000023841858\n",
      "Epoch 144 --train Loss:1.2618687152862549; Acc:0.5600000023841858 --test Loss1.329431176185608; Acc0.36500000953674316\n",
      "Epoch 145 --train Loss:1.2821910381317139; Acc:0.45249998569488525 --test Loss1.313716173171997; Acc0.39250001311302185\n",
      "Epoch 146 --train Loss:1.2746918201446533; Acc:0.4749999940395355 --test Loss1.3086216449737549; Acc0.39250001311302185\n",
      "Epoch 147 --train Loss:1.2366503477096558; Acc:0.5600000023841858 --test Loss1.2982335090637207; Acc0.4650000035762787\n",
      "Epoch 148 --train Loss:1.242106556892395; Acc:0.512499988079071 --test Loss1.327576756477356; Acc0.3675000071525574\n",
      "Epoch 149 --train Loss:1.2754156589508057; Acc:0.512499988079071 --test Loss1.3052053451538086; Acc0.4350000023841858\n",
      "Epoch 150 --train Loss:1.252005696296692; Acc:0.5625 --test Loss1.3347365856170654; Acc0.35749998688697815\n",
      "Epoch 151 --train Loss:1.2408816814422607; Acc:0.5975000262260437 --test Loss1.3154020309448242; Acc0.41499999165534973\n",
      "Epoch 152 --train Loss:1.223996639251709; Acc:0.5799999833106995 --test Loss1.3120014667510986; Acc0.41749998927116394\n",
      "Epoch 153 --train Loss:1.2652446031570435; Acc:0.47999998927116394 --test Loss1.3174346685409546; Acc0.39250001311302185\n",
      "Epoch 154 --train Loss:1.2518318891525269; Acc:0.5049999952316284 --test Loss1.2926573753356934; Acc0.4699999988079071\n",
      "Epoch 155 --train Loss:1.232286810874939; Acc:0.5525000095367432 --test Loss1.3155347108840942; Acc0.42500001192092896\n",
      "Epoch 156 --train Loss:1.2523785829544067; Acc:0.5350000262260437 --test Loss1.311903715133667; Acc0.4074999988079071\n",
      "Epoch 157 --train Loss:1.245910406112671; Acc:0.5224999785423279 --test Loss1.3248546123504639; Acc0.38999998569488525\n",
      "Epoch 158 --train Loss:1.2340574264526367; Acc:0.5475000143051147 --test Loss1.31951105594635; Acc0.41749998927116394\n",
      "Epoch 159 --train Loss:1.266608476638794; Acc:0.5 --test Loss1.2929550409317017; Acc0.45500001311302185\n",
      "Epoch 160 --train Loss:1.2550305128097534; Acc:0.5274999737739563 --test Loss1.284705638885498; Acc0.47749999165534973\n",
      "Epoch 161 --train Loss:1.2400017976760864; Acc:0.5249999761581421 --test Loss1.3120758533477783; Acc0.4099999964237213\n",
      "Epoch 162 --train Loss:1.239100456237793; Acc:0.5425000190734863 --test Loss1.3053723573684692; Acc0.4099999964237213\n",
      "Epoch 163 --train Loss:1.2617099285125732; Acc:0.5274999737739563 --test Loss1.2891768217086792; Acc0.48249998688697815\n",
      "Epoch 164 --train Loss:1.2255334854125977; Acc:0.5649999976158142 --test Loss1.3242493867874146; Acc0.3824999928474426\n",
      "Epoch 165 --train Loss:1.239462971687317; Acc:0.5049999952316284 --test Loss1.2971283197402954; Acc0.45500001311302185\n",
      "Epoch 166 --train Loss:1.2345411777496338; Acc:0.5550000071525574 --test Loss1.3074049949645996; Acc0.42250001430511475\n",
      "Epoch 167 --train Loss:1.2393615245819092; Acc:0.5425000190734863 --test Loss1.3186852931976318; Acc0.4025000035762787\n",
      "Epoch 168 --train Loss:1.2450885772705078; Acc:0.48750001192092896 --test Loss1.3027892112731934; Acc0.4300000071525574\n",
      "Epoch 169 --train Loss:1.2148163318634033; Acc:0.5325000286102295 --test Loss1.2860220670700073; Acc0.4449999928474426\n",
      "Epoch 170 --train Loss:1.20310640335083; Acc:0.6100000143051147 --test Loss1.3094336986541748; Acc0.44999998807907104\n",
      "Epoch 171 --train Loss:1.2273201942443848; Acc:0.574999988079071 --test Loss1.301416277885437; Acc0.44749999046325684\n",
      "Epoch 172 --train Loss:1.2256693840026855; Acc:0.5325000286102295 --test Loss1.2691950798034668; Acc0.5074999928474426\n",
      "Epoch 173 --train Loss:1.2275620698928833; Acc:0.550000011920929 --test Loss1.2961392402648926; Acc0.4424999952316284\n",
      "Epoch 174 --train Loss:1.2397476434707642; Acc:0.5575000047683716 --test Loss1.2860488891601562; Acc0.45500001311302185\n",
      "Epoch 175 --train Loss:1.1957409381866455; Acc:0.6025000214576721 --test Loss1.272360920906067; Acc0.4650000035762787\n",
      "Epoch 176 --train Loss:1.2290898561477661; Acc:0.5575000047683716 --test Loss1.3111414909362793; Acc0.39250001311302185\n",
      "Epoch 177 --train Loss:1.1695038080215454; Acc:0.6200000047683716 --test Loss1.3003305196762085; Acc0.41999998688697815\n",
      "Epoch 178 --train Loss:1.2223566770553589; Acc:0.6000000238418579 --test Loss1.2786688804626465; Acc0.49000000953674316\n",
      "Epoch 179 --train Loss:1.2117409706115723; Acc:0.5899999737739563 --test Loss1.2851474285125732; Acc0.4675000011920929\n",
      "Epoch 180 --train Loss:1.2047384977340698; Acc:0.5824999809265137 --test Loss1.3032619953155518; Acc0.41499999165534973\n",
      "Epoch 181 --train Loss:1.193874478340149; Acc:0.5924999713897705 --test Loss1.3012875318527222; Acc0.4399999976158142\n",
      "Epoch 182 --train Loss:1.22773015499115; Acc:0.5625 --test Loss1.3114286661148071; Acc0.4025000035762787\n",
      "Epoch 183 --train Loss:1.2111726999282837; Acc:0.5849999785423279 --test Loss1.2646602392196655; Acc0.48500001430511475\n",
      "Epoch 184 --train Loss:1.1855723857879639; Acc:0.6200000047683716 --test Loss1.2788907289505005; Acc0.45750001072883606\n",
      "Epoch 185 --train Loss:1.1951885223388672; Acc:0.5674999952316284 --test Loss1.2974538803100586; Acc0.45500001311302185\n",
      "Epoch 186 --train Loss:1.1708976030349731; Acc:0.6399999856948853 --test Loss1.2440208196640015; Acc0.4975000023841858\n",
      "Epoch 187 --train Loss:1.1720629930496216; Acc:0.6225000023841858 --test Loss1.2924809455871582; Acc0.4724999964237213\n",
      "Epoch 188 --train Loss:1.1595114469528198; Acc:0.6650000214576721 --test Loss1.2686134576797485; Acc0.48750001192092896\n",
      "Epoch 189 --train Loss:1.18131422996521; Acc:0.625 --test Loss1.304693579673767; Acc0.41999998688697815\n",
      "Epoch 190 --train Loss:1.2003597021102905; Acc:0.5899999737739563 --test Loss1.2812013626098633; Acc0.4699999988079071\n",
      "Epoch 191 --train Loss:1.182786226272583; Acc:0.625 --test Loss1.3052875995635986; Acc0.41749998927116394\n",
      "Epoch 192 --train Loss:1.1789932250976562; Acc:0.6274999976158142 --test Loss1.271468997001648; Acc0.4975000023841858\n",
      "Epoch 193 --train Loss:1.1755056381225586; Acc:0.6225000023841858 --test Loss1.290919542312622; Acc0.4625000059604645\n",
      "Epoch 194 --train Loss:1.2095863819122314; Acc:0.5699999928474426 --test Loss1.2971652746200562; Acc0.39250001311302185\n",
      "Epoch 195 --train Loss:1.1701233386993408; Acc:0.637499988079071 --test Loss1.2801289558410645; Acc0.48249998688697815\n",
      "Epoch 196 --train Loss:1.1745377779006958; Acc:0.6050000190734863 --test Loss1.2650115489959717; Acc0.4699999988079071\n",
      "Epoch 197 --train Loss:1.2018579244613647; Acc:0.5849999785423279 --test Loss1.2657437324523926; Acc0.5024999976158142\n",
      "Epoch 198 --train Loss:1.1661696434020996; Acc:0.6150000095367432 --test Loss1.263785481452942; Acc0.48750001192092896\n",
      "Epoch 199 --train Loss:1.1685377359390259; Acc:0.625 --test Loss1.2614414691925049; Acc0.4925000071525574\n",
      "Epoch 200 --train Loss:1.2098561525344849; Acc:0.5799999833106995 --test Loss1.2834047079086304; Acc0.45750001072883606\n",
      "Epoch 201 --train Loss:1.166770577430725; Acc:0.6700000166893005 --test Loss1.3016343116760254; Acc0.4074999988079071\n",
      "Epoch 202 --train Loss:1.1852388381958008; Acc:0.6200000047683716 --test Loss1.2963224649429321; Acc0.4424999952316284\n",
      "Epoch 203 --train Loss:1.1898945569992065; Acc:0.5975000262260437 --test Loss1.282474160194397; Acc0.4650000035762787\n",
      "Epoch 204 --train Loss:1.1737754344940186; Acc:0.5975000262260437 --test Loss1.2547208070755005; Acc0.4975000023841858\n",
      "Epoch 205 --train Loss:1.161081075668335; Acc:0.6200000047683716 --test Loss1.2369999885559082; Acc0.5299999713897705\n",
      "Epoch 206 --train Loss:1.1881870031356812; Acc:0.5874999761581421 --test Loss1.2574841976165771; Acc0.5\n",
      "Epoch 207 --train Loss:1.1404609680175781; Acc:0.6650000214576721 --test Loss1.2718760967254639; Acc0.4675000011920929\n",
      "Epoch 208 --train Loss:1.185634732246399; Acc:0.6100000143051147 --test Loss1.2441911697387695; Acc0.48249998688697815\n",
      "Epoch 209 --train Loss:1.1945244073867798; Acc:0.6100000143051147 --test Loss1.264294147491455; Acc0.46000000834465027\n",
      "Epoch 210 --train Loss:1.1437093019485474; Acc:0.6424999833106995 --test Loss1.2715919017791748; Acc0.4424999952316284\n",
      "Epoch 211 --train Loss:1.1777054071426392; Acc:0.5774999856948853 --test Loss1.243646264076233; Acc0.5174999833106995\n"
     ]
    },
    {
     "name": "stdout",
     "output_type": "stream",
     "text": [
      "Epoch 212 --train Loss:1.179636836051941; Acc:0.5950000286102295 --test Loss1.2709543704986572; Acc0.45500001311302185\n",
      "Epoch 213 --train Loss:1.141746163368225; Acc:0.6274999976158142 --test Loss1.2610808610916138; Acc0.4625000059604645\n",
      "Epoch 214 --train Loss:1.1483749151229858; Acc:0.6324999928474426 --test Loss1.2584563493728638; Acc0.47749999165534973\n",
      "Epoch 215 --train Loss:1.1546837091445923; Acc:0.6725000143051147 --test Loss1.2620023488998413; Acc0.4675000011920929\n",
      "Epoch 216 --train Loss:1.1620237827301025; Acc:0.6499999761581421 --test Loss1.2366942167282104; Acc0.5074999928474426\n",
      "Epoch 217 --train Loss:1.1658421754837036; Acc:0.6000000238418579 --test Loss1.264316201210022; Acc0.5099999904632568\n",
      "Epoch 218 --train Loss:1.1668606996536255; Acc:0.5899999737739563 --test Loss1.2241795063018799; Acc0.5274999737739563\n",
      "Epoch 219 --train Loss:1.1621884107589722; Acc:0.6324999928474426 --test Loss1.2555989027023315; Acc0.4925000071525574\n",
      "Epoch 220 --train Loss:1.2021418809890747; Acc:0.5724999904632568 --test Loss1.2878854274749756; Acc0.42750000953674316\n",
      "Epoch 221 --train Loss:1.1734637022018433; Acc:0.6075000166893005 --test Loss1.3049523830413818; Acc0.4025000035762787\n",
      "Epoch 222 --train Loss:1.1852097511291504; Acc:0.5950000286102295 --test Loss1.2742769718170166; Acc0.4325000047683716\n",
      "Epoch 223 --train Loss:1.1992391347885132; Acc:0.5475000143051147 --test Loss1.2784225940704346; Acc0.4375\n",
      "Epoch 224 --train Loss:1.199531078338623; Acc:0.5525000095367432 --test Loss1.2407907247543335; Acc0.5099999904632568\n",
      "Epoch 225 --train Loss:1.173343300819397; Acc:0.6175000071525574 --test Loss1.2350928783416748; Acc0.4950000047683716\n",
      "Epoch 226 --train Loss:1.1857184171676636; Acc:0.5724999904632568 --test Loss1.233826994895935; Acc0.512499988079071\n",
      "Epoch 227 --train Loss:1.1406055688858032; Acc:0.6499999761581421 --test Loss1.2325692176818848; Acc0.5350000262260437\n",
      "Epoch 228 --train Loss:1.1281577348709106; Acc:0.6725000143051147 --test Loss1.2459807395935059; Acc0.45750001072883606\n",
      "Epoch 229 --train Loss:1.1972241401672363; Acc:0.5699999928474426 --test Loss1.2666205167770386; Acc0.44749999046325684\n",
      "Epoch 230 --train Loss:1.1605888605117798; Acc:0.6175000071525574 --test Loss1.2988402843475342; Acc0.41749998927116394\n",
      "Epoch 231 --train Loss:1.1477940082550049; Acc:0.6349999904632568 --test Loss1.2876774072647095; Acc0.4300000071525574\n",
      "Epoch 232 --train Loss:1.1605030298233032; Acc:0.6150000095367432 --test Loss1.2384467124938965; Acc0.4950000047683716\n",
      "Epoch 233 --train Loss:1.105837106704712; Acc:0.6899999976158142 --test Loss1.2439525127410889; Acc0.5149999856948853\n",
      "Epoch 234 --train Loss:1.1415073871612549; Acc:0.637499988079071 --test Loss1.2480233907699585; Acc0.4950000047683716\n",
      "Epoch 235 --train Loss:1.1524051427841187; Acc:0.6324999928474426 --test Loss1.207165241241455; Acc0.5625\n",
      "Epoch 236 --train Loss:1.103225827217102; Acc:0.7124999761581421 --test Loss1.2641438245773315; Acc0.45500001311302185\n",
      "Epoch 237 --train Loss:1.1516199111938477; Acc:0.6499999761581421 --test Loss1.2423527240753174; Acc0.48500001430511475\n",
      "Epoch 238 --train Loss:1.1756958961486816; Acc:0.5824999809265137 --test Loss1.2529834508895874; Acc0.4975000023841858\n",
      "Epoch 239 --train Loss:1.1156244277954102; Acc:0.7174999713897705 --test Loss1.2215732336044312; Acc0.5325000286102295\n",
      "Epoch 240 --train Loss:1.1711764335632324; Acc:0.6050000190734863 --test Loss1.2270514965057373; Acc0.5425000190734863\n",
      "Epoch 241 --train Loss:1.1504526138305664; Acc:0.5899999737739563 --test Loss1.2206904888153076; Acc0.5325000286102295\n",
      "Epoch 242 --train Loss:1.1478075981140137; Acc:0.6324999928474426 --test Loss1.228122591972351; Acc0.5174999833106995\n",
      "Epoch 243 --train Loss:1.109598994255066; Acc:0.6899999976158142 --test Loss1.2576451301574707; Acc0.4625000059604645\n",
      "Epoch 244 --train Loss:1.1140137910842896; Acc:0.6949999928474426 --test Loss1.2595270872116089; Acc0.4724999964237213\n",
      "Epoch 245 --train Loss:1.1463713645935059; Acc:0.6399999856948853 --test Loss1.2555023431777954; Acc0.44999998807907104\n",
      "Epoch 246 --train Loss:1.1458224058151245; Acc:0.6474999785423279 --test Loss1.2494300603866577; Acc0.5\n",
      "Epoch 247 --train Loss:1.1400299072265625; Acc:0.6499999761581421 --test Loss1.2281161546707153; Acc0.5224999785423279\n",
      "Epoch 248 --train Loss:1.106552243232727; Acc:0.6424999833106995 --test Loss1.2424615621566772; Acc0.47999998927116394\n",
      "Epoch 249 --train Loss:1.105340600013733; Acc:0.6625000238418579 --test Loss1.234626054763794; Acc0.5099999904632568\n",
      "Epoch 250 --train Loss:1.1726356744766235; Acc:0.574999988079071 --test Loss1.2230616807937622; Acc0.5174999833106995\n",
      "Epoch 251 --train Loss:1.105370283126831; Acc:0.6800000071525574 --test Loss1.216808795928955; Acc0.5475000143051147\n",
      "Epoch 252 --train Loss:1.1126996278762817; Acc:0.6800000071525574 --test Loss1.279310703277588; Acc0.42250001430511475\n",
      "Epoch 253 --train Loss:1.1326873302459717; Acc:0.6675000190734863 --test Loss1.2504109144210815; Acc0.48500001430511475\n",
      "Epoch 254 --train Loss:1.0904945135116577; Acc:0.7300000190734863 --test Loss1.2629468441009521; Acc0.4650000035762787\n",
      "Epoch 255 --train Loss:1.1368428468704224; Acc:0.6474999785423279 --test Loss1.2428399324417114; Acc0.48249998688697815\n",
      "Epoch 256 --train Loss:1.0914098024368286; Acc:0.6974999904632568 --test Loss1.2106389999389648; Acc0.5299999713897705\n",
      "Epoch 257 --train Loss:1.0993077754974365; Acc:0.6625000238418579 --test Loss1.2275724411010742; Acc0.4950000047683716\n",
      "Epoch 258 --train Loss:1.1341851949691772; Acc:0.6274999976158142 --test Loss1.2370598316192627; Acc0.5\n",
      "Epoch 259 --train Loss:1.1083320379257202; Acc:0.6850000023841858 --test Loss1.1912325620651245; Acc0.5525000095367432\n",
      "Epoch 260 --train Loss:1.0936331748962402; Acc:0.7024999856948853 --test Loss1.2114057540893555; Acc0.5375000238418579\n",
      "Epoch 261 --train Loss:1.1281027793884277; Acc:0.6675000190734863 --test Loss1.2132370471954346; Acc0.5375000238418579\n",
      "Epoch 262 --train Loss:1.0985795259475708; Acc:0.7225000262260437 --test Loss1.202445387840271; Acc0.5475000143051147\n",
      "Epoch 263 --train Loss:1.0939487218856812; Acc:0.7225000262260437 --test Loss1.273099422454834; Acc0.4650000035762787\n",
      "Epoch 264 --train Loss:1.1117082834243774; Acc:0.675000011920929 --test Loss1.2140228748321533; Acc0.5274999737739563\n",
      "Epoch 265 --train Loss:1.1099199056625366; Acc:0.6800000071525574 --test Loss1.2356206178665161; Acc0.5\n",
      "Epoch 266 --train Loss:1.1303287744522095; Acc:0.6800000071525574 --test Loss1.200619101524353; Acc0.5575000047683716\n",
      "Epoch 267 --train Loss:1.1255309581756592; Acc:0.6449999809265137 --test Loss1.2028381824493408; Acc0.5149999856948853\n",
      "Epoch 268 --train Loss:1.0957882404327393; Acc:0.6924999952316284 --test Loss1.268921136856079; Acc0.4375\n",
      "Epoch 269 --train Loss:1.1015263795852661; Acc:0.699999988079071 --test Loss1.191833734512329; Acc0.5649999976158142\n",
      "Epoch 270 --train Loss:1.1208624839782715; Acc:0.6299999952316284 --test Loss1.1926777362823486; Acc0.5724999904632568\n",
      "Epoch 271 --train Loss:1.1013165712356567; Acc:0.6650000214576721 --test Loss1.2493867874145508; Acc0.4749999940395355\n",
      "Epoch 272 --train Loss:1.0523353815078735; Acc:0.7350000143051147 --test Loss1.2512720823287964; Acc0.44999998807907104\n",
      "Epoch 273 --train Loss:1.086644172668457; Acc:0.7099999785423279 --test Loss1.2401378154754639; Acc0.48249998688697815\n",
      "Epoch 274 --train Loss:1.114159345626831; Acc:0.6850000023841858 --test Loss1.249527931213379; Acc0.47999998927116394\n",
      "Epoch 275 --train Loss:1.0753008127212524; Acc:0.7200000286102295 --test Loss1.2547224760055542; Acc0.4724999964237213\n",
      "Epoch 276 --train Loss:1.1094602346420288; Acc:0.6700000166893005 --test Loss1.2100567817687988; Acc0.5400000214576721\n",
      "Epoch 277 --train Loss:1.1049948930740356; Acc:0.6650000214576721 --test Loss1.1871495246887207; Acc0.5799999833106995\n",
      "Epoch 278 --train Loss:1.0668963193893433; Acc:0.7475000023841858 --test Loss1.2219754457473755; Acc0.5224999785423279\n",
      "Epoch 279 --train Loss:1.1246432065963745; Acc:0.6700000166893005 --test Loss1.2478240728378296; Acc0.47749999165534973\n",
      "Epoch 280 --train Loss:1.102203369140625; Acc:0.6725000143051147 --test Loss1.223028302192688; Acc0.4975000023841858\n",
      "Epoch 281 --train Loss:1.094971776008606; Acc:0.7074999809265137 --test Loss1.2273098230361938; Acc0.5149999856948853\n"
     ]
    },
    {
     "name": "stdout",
     "output_type": "stream",
     "text": [
      "Epoch 282 --train Loss:1.1155478954315186; Acc:0.6725000143051147 --test Loss1.2546039819717407; Acc0.48249998688697815\n",
      "Epoch 283 --train Loss:1.0351775884628296; Acc:0.7875000238418579 --test Loss1.2486510276794434; Acc0.4675000011920929\n",
      "Epoch 284 --train Loss:1.1161164045333862; Acc:0.699999988079071 --test Loss1.1950926780700684; Acc0.5625\n",
      "Epoch 285 --train Loss:1.1071538925170898; Acc:0.6800000071525574 --test Loss1.2179656028747559; Acc0.5149999856948853\n",
      "Epoch 286 --train Loss:1.069581389427185; Acc:0.737500011920929 --test Loss1.2043542861938477; Acc0.5600000023841858\n",
      "Epoch 287 --train Loss:1.0913310050964355; Acc:0.7124999761581421 --test Loss1.1950128078460693; Acc0.5724999904632568\n",
      "Epoch 288 --train Loss:1.0941705703735352; Acc:0.7024999856948853 --test Loss1.2128154039382935; Acc0.550000011920929\n",
      "Epoch 289 --train Loss:1.0866918563842773; Acc:0.699999988079071 --test Loss1.1832386255264282; Acc0.5600000023841858\n",
      "Epoch 290 --train Loss:1.085498571395874; Acc:0.6924999952316284 --test Loss1.200943946838379; Acc0.5525000095367432\n",
      "Epoch 291 --train Loss:1.0705875158309937; Acc:0.7350000143051147 --test Loss1.2853120565414429; Acc0.4099999964237213\n",
      "Epoch 292 --train Loss:1.0963002443313599; Acc:0.7099999785423279 --test Loss1.308869481086731; Acc0.4000000059604645\n",
      "Epoch 293 --train Loss:1.0654491186141968; Acc:0.7350000143051147 --test Loss1.264899492263794; Acc0.4424999952316284\n",
      "Epoch 294 --train Loss:1.07100248336792; Acc:0.7250000238418579 --test Loss1.235223650932312; Acc0.48249998688697815\n",
      "Epoch 295 --train Loss:1.1044918298721313; Acc:0.7074999809265137 --test Loss1.176201343536377; Acc0.6050000190734863\n",
      "Epoch 296 --train Loss:1.053676724433899; Acc:0.7325000166893005 --test Loss1.1940128803253174; Acc0.5699999928474426\n",
      "Epoch 297 --train Loss:1.0682955980300903; Acc:0.7300000190734863 --test Loss1.2363512516021729; Acc0.4675000011920929\n",
      "Epoch 298 --train Loss:1.0688916444778442; Acc:0.7149999737739563 --test Loss1.144830346107483; Acc0.6324999928474426\n",
      "Epoch 299 --train Loss:1.063725471496582; Acc:0.737500011920929 --test Loss1.2469485998153687; Acc0.45750001072883606\n",
      "Epoch 300 --train Loss:1.0632052421569824; Acc:0.7225000262260437 --test Loss1.297315239906311; Acc0.39750000834465027\n",
      "Epoch 301 --train Loss:1.0657143592834473; Acc:0.7325000166893005 --test Loss1.235274314880371; Acc0.48750001192092896\n",
      "Epoch 302 --train Loss:1.060754418373108; Acc:0.7400000095367432 --test Loss1.1746203899383545; Acc0.6000000238418579\n",
      "Epoch 303 --train Loss:1.05023992061615; Acc:0.762499988079071 --test Loss1.1730213165283203; Acc0.5699999928474426\n",
      "Epoch 304 --train Loss:1.059312105178833; Acc:0.7174999713897705 --test Loss1.2466696500778198; Acc0.4699999988079071\n",
      "Epoch 305 --train Loss:1.0707776546478271; Acc:0.6875 --test Loss1.187088966369629; Acc0.5550000071525574\n",
      "Epoch 306 --train Loss:1.0917880535125732; Acc:0.6775000095367432 --test Loss1.1729457378387451; Acc0.5724999904632568\n",
      "Epoch 307 --train Loss:1.069503903388977; Acc:0.7149999737739563 --test Loss1.201594591140747; Acc0.5425000190734863\n",
      "Epoch 308 --train Loss:1.0988266468048096; Acc:0.6575000286102295 --test Loss1.2591632604599; Acc0.45750001072883606\n",
      "Epoch 309 --train Loss:1.1112735271453857; Acc:0.6600000262260437 --test Loss1.2248778343200684; Acc0.48249998688697815\n",
      "Epoch 310 --train Loss:1.0511431694030762; Acc:0.737500011920929 --test Loss1.2097114324569702; Acc0.5450000166893005\n",
      "Epoch 311 --train Loss:1.034924030303955; Acc:0.7549999952316284 --test Loss1.1866636276245117; Acc0.550000011920929\n",
      "Epoch 312 --train Loss:1.055725336074829; Acc:0.7350000143051147 --test Loss1.2041640281677246; Acc0.5400000214576721\n",
      "Epoch 313 --train Loss:1.0598033666610718; Acc:0.75 --test Loss1.2158215045928955; Acc0.5299999713897705\n",
      "Epoch 314 --train Loss:1.0664472579956055; Acc:0.7200000286102295 --test Loss1.1894404888153076; Acc0.5600000023841858\n",
      "Epoch 315 --train Loss:1.06885826587677; Acc:0.7200000286102295 --test Loss1.215780258178711; Acc0.4950000047683716\n",
      "Epoch 316 --train Loss:1.0768299102783203; Acc:0.7250000238418579 --test Loss1.228334665298462; Acc0.512499988079071\n",
      "Epoch 317 --train Loss:1.038325309753418; Acc:0.7574999928474426 --test Loss1.1865266561508179; Acc0.5699999928474426\n",
      "Epoch 318 --train Loss:1.046777606010437; Acc:0.7200000286102295 --test Loss1.2138110399246216; Acc0.5224999785423279\n",
      "Epoch 319 --train Loss:1.0566997528076172; Acc:0.75 --test Loss1.1501704454421997; Acc0.6274999976158142\n",
      "Epoch 320 --train Loss:1.0651192665100098; Acc:0.7300000190734863 --test Loss1.1574972867965698; Acc0.6150000095367432\n",
      "Epoch 321 --train Loss:1.048322319984436; Acc:0.7325000166893005 --test Loss1.2142431735992432; Acc0.5375000238418579\n",
      "Epoch 322 --train Loss:1.051936149597168; Acc:0.7574999928474426 --test Loss1.173551082611084; Acc0.5450000166893005\n",
      "Epoch 323 --train Loss:1.0471184253692627; Acc:0.7450000047683716 --test Loss1.2289756536483765; Acc0.48249998688697815\n",
      "Epoch 324 --train Loss:1.0870394706726074; Acc:0.7099999785423279 --test Loss1.239864468574524; Acc0.44999998807907104\n",
      "Epoch 325 --train Loss:1.1074844598770142; Acc:0.6524999737739563 --test Loss1.2462151050567627; Acc0.5024999976158142\n",
      "Epoch 326 --train Loss:1.0623186826705933; Acc:0.6949999928474426 --test Loss1.183868646621704; Acc0.5674999952316284\n",
      "Epoch 327 --train Loss:1.0764639377593994; Acc:0.7074999809265137 --test Loss1.2095510959625244; Acc0.5325000286102295\n",
      "Epoch 328 --train Loss:1.072873592376709; Acc:0.6825000047683716 --test Loss1.191546082496643; Acc0.5350000262260437\n",
      "Epoch 329 --train Loss:1.04228675365448; Acc:0.7574999928474426 --test Loss1.2161229848861694; Acc0.5174999833106995\n",
      "Epoch 330 --train Loss:1.0436804294586182; Acc:0.7475000023841858 --test Loss1.1917535066604614; Acc0.550000011920929\n",
      "Epoch 331 --train Loss:1.0628352165222168; Acc:0.7524999976158142 --test Loss1.164747714996338; Acc0.5874999761581421\n",
      "Epoch 332 --train Loss:1.0988259315490723; Acc:0.6625000238418579 --test Loss1.1443569660186768; Acc0.6175000071525574\n",
      "Epoch 333 --train Loss:1.0615501403808594; Acc:0.6949999928474426 --test Loss1.2352378368377686; Acc0.48249998688697815\n",
      "Epoch 334 --train Loss:1.0509538650512695; Acc:0.7450000047683716 --test Loss1.187549114227295; Acc0.5350000262260437\n",
      "Epoch 335 --train Loss:1.0644121170043945; Acc:0.7275000214576721 --test Loss1.1779413223266602; Acc0.5550000071525574\n",
      "Epoch 336 --train Loss:1.051613211631775; Acc:0.7524999976158142 --test Loss1.2302024364471436; Acc0.49000000953674316\n",
      "Epoch 337 --train Loss:1.1088361740112305; Acc:0.6150000095367432 --test Loss1.24441659450531; Acc0.4625000059604645\n",
      "Epoch 338 --train Loss:1.0528463125228882; Acc:0.7325000166893005 --test Loss1.148823618888855; Acc0.5975000262260437\n",
      "Epoch 339 --train Loss:1.0329712629318237; Acc:0.7450000047683716 --test Loss1.129085659980774; Acc0.6424999833106995\n",
      "Epoch 340 --train Loss:1.0496487617492676; Acc:0.7099999785423279 --test Loss1.244388222694397; Acc0.4724999964237213\n"
     ]
    },
    {
     "name": "stderr",
     "output_type": "stream",
     "text": [
      "\n",
      "KeyboardInterrupt\n",
      "\n"
     ]
    }
   ],
   "source": [
    "EPOCHS = 1000\n",
    "model = Classification2()\n",
    "Loss = nn.CrossEntropyLoss() # ignore_index = 0\n",
    "OPT = torch.optim.Adam(model.parameters(), lr = 0.01)\n",
    "MILE = [i*50 for i in range(EPOCHS//50)]\n",
    "scheduler = torch.optim.lr_scheduler.MultiStepLR(OPT, milestones=MILE, gamma=0.001)\n",
    "losses = list()\n",
    "ts_losses = list()\n",
    "acces = list()\n",
    "acces2 = list()\n",
    "MIN = float('inf')\n",
    "#X_train, y_train = batch(torch.FloatTensor(enc_vect), y, 10)\n",
    "X_tr, y_tr, X_ts, y_ts = tr_ts_split(enc_input, y, 0.7)\n",
    "for epoch in range(EPOCHS):\n",
    "    X_train, y_train = batch(X_tr, y_tr, 400)\n",
    "    output = model(X_train)\n",
    "    y_hat = output.reshape(output.shape[0], 4)\n",
    "    loss = Loss(y_hat, y_train)\n",
    "    losses.append(float(loss))\n",
    "    acc = (torch.argmax(output, axis = 1) == y_train).sum()/X_train.shape[0]\n",
    "    acces.append(acc)\n",
    "    X_test, y_test = batch(X_ts, y_ts, 400)\n",
    "    output2 = model(X_test)\n",
    "    y_hat2 = output2.reshape(output2.shape[0], 4)\n",
    "    loss2 = Loss(y_hat2, y_test)\n",
    "    ts_losses.append(float(loss2))\n",
    "    acc2 = (torch.argmax(output2, axis = 1) == y_test).sum()/X_test.shape[0]\n",
    "    acces2.append(acc2)\n",
    "    if float(loss2) < MIN:\n",
    "        MIN = float(loss2)\n",
    "        flag = 0\n",
    "        torch.save(model, 'text_classify_original9.pt')\n",
    "    else:\n",
    "        flag += 1\n",
    "    if flag == 100:\n",
    "        break\n",
    "    OPT.zero_grad()\n",
    "    loss.backward()\n",
    "    #scheduler.step()\n",
    "    print(\"Epoch {0} --train Loss:{1}; Acc:{2} --test Loss{3}; Acc{4}\".format(epoch + 1, float(loss), float(acc),\n",
    "                                                                             float(loss2), float(acc2)))\n",
    "    OPT.step()"
   ]
  },
  {
   "cell_type": "code",
   "execution_count": 12,
   "id": "ec0b205b",
   "metadata": {},
   "outputs": [
    {
     "data": {
      "image/png": "[encoded data removed]",
      "text/plain": [
       "<Figure size 432x288 with 1 Axes>"
      ]
     },
     "metadata": {
      "needs_background": "light"
     },
     "output_type": "display_data"
    }
   ],
   "source": [
    "import matplotlib.pyplot as plt\n",
    "plt.plot(losses)\n",
    "plt.plot(ts_losses)\n",
    "plt.ylabel('Loss')\n",
    "plt.xlabel('epochs')\n",
    "plt.grid()\n",
    "plt.show()"
   ]
  },
  {
   "cell_type": "code",
   "execution_count": 13,
   "id": "d562ac9c",
   "metadata": {},
   "outputs": [
    {
     "data": {
      "image/png": "[encoded data removed]",
      "text/plain": [
       "<Figure size 432x288 with 1 Axes>"
      ]
     },
     "metadata": {
      "needs_background": "light"
     },
     "output_type": "display_data"
    }
   ],
   "source": [
    "import matplotlib.pyplot as plt\n",
    "plt.plot(acces)\n",
    "plt.plot(acces2)\n",
    "plt.ylabel('Acc')\n",
    "plt.xlabel('epochs')\n",
    "plt.grid()\n",
    "plt.show()"
   ]
  },
  {
   "cell_type": "code",
   "execution_count": 15,
   "id": "88dad1b6",
   "metadata": {},
   "outputs": [
    {
     "name": "stderr",
     "output_type": "stream",
     "text": [
      "/tmp/ipykernel_1533739/2751404793.py:26: UserWarning: Implicit dimension choice for softmax has been deprecated. Change the call to include dim=X as an argument.\n",
      "  predict = nn.Softmax()(self.Den2(enc_output))\n"
     ]
    },
    {
     "data": {
      "text/plain": [
       "tensor(0.6000)"
      ]
     },
     "execution_count": 15,
     "metadata": {},
     "output_type": "execute_result"
    }
   ],
   "source": [
    "(torch.argmax(model(X_test), axis = 1) == y_test).sum()/y_test.shape[0]"
   ]
  },
  {
   "cell_type": "code",
   "execution_count": 24,
   "id": "655ba855",
   "metadata": {},
   "outputs": [
    {
     "name": "stderr",
     "output_type": "stream",
     "text": [
      "/tmp/ipykernel_1533739/2751404793.py:26: UserWarning: Implicit dimension choice for softmax has been deprecated. Change the call to include dim=X as an argument.\n",
      "  predict = nn.Softmax()(self.Den2(enc_output))\n"
     ]
    }
   ],
   "source": [
    "MODEL = torch.load('text_classify_original9.pt')\n",
    "test = pd.read_csv('test.csv')\n",
    "enc_ts = list()\n",
    "for line in test['Description']:\n",
    "    line = line.lower()\n",
    "    temp = word_tokenize(line)\n",
    "    enc_ts.append([word for word in temp if word[0] not in signs])\n",
    "XX = list()\n",
    "# 文字映射\n",
    "for idx in range(len(enc_ts)):\n",
    "    XX.append([en_dict[enc_ts[idx][jdx]] if jdx < len(enc_ts[idx]) else 0 for jdx in range(100)])\n",
    "XX = torch.tensor(XX)\n",
    "Y = MODEL(XX)\n",
    "RESULT = pd.DataFrame(np.array(torch.argmax(Y, axis = 1)), columns = ['Category']).reset_index()\n",
    "RESULT.columns = ['Id','Category']\n",
    "RESULT['Id'] = test['Id']\n",
    "RESULT['Category'] += 1\n",
    "RESULT.to_csv('SUBMISSION.csv', index = False)"
   ]
  },
  {
   "cell_type": "code",
   "execution_count": 27,
   "id": "cbe1879b",
   "metadata": {},
   "outputs": [
    {
     "data": {
      "text/plain": [
       "tensor([0, 0, 0, 0, 0, 0, 0, 0, 0, 0, 0, 0, 0, 0, 0, 0, 0, 0, 0, 0, 0, 0, 0, 0,\n",
       "        0, 0, 3, 3, 3, 3, 3, 3, 3, 3, 3, 3, 2, 2, 3, 3, 3, 3, 3, 3, 3, 3, 3, 3,\n",
       "        3, 3, 3, 3, 3, 3, 2, 3, 3, 3, 3, 2, 3, 3, 3, 2, 3, 3, 3, 3, 3, 3, 3, 3,\n",
       "        3, 3, 3, 3, 3, 3, 3, 3, 3, 3, 3, 3, 3, 3, 3, 3, 2, 3, 3, 2, 3, 3, 3, 3,\n",
       "        3, 3, 3, 3, 2, 3, 3, 3, 3, 2, 3, 3, 3, 3, 3, 3, 3, 3, 3, 3, 3, 3, 3, 2,\n",
       "        3, 3, 3, 3, 3, 3, 3, 3, 3, 3, 3, 3, 3, 3, 3, 3, 2, 3, 3, 3, 2, 3, 3, 2,\n",
       "        3, 2, 3, 3, 3, 3, 3, 3, 3, 3, 2, 3, 3, 3, 3, 3, 2, 3, 3, 3, 3, 3, 3, 3,\n",
       "        3, 3, 3, 3, 3, 2, 3, 3, 3, 2, 3, 3, 3, 3, 3, 3, 3, 3, 3, 3, 3, 3, 3, 3,\n",
       "        3, 3, 3, 3, 3, 3, 3, 3, 3, 3, 3, 3, 3, 3, 3, 3, 3, 3, 3, 3, 3, 3, 2, 3,\n",
       "        3, 3, 2, 3, 3, 3, 3, 3, 3, 3, 2, 3, 3, 3, 3, 3, 3, 3, 3, 3, 3, 3, 3, 3,\n",
       "        3, 3, 3, 2, 3, 2, 3, 3, 3, 3, 3, 3, 3, 3, 3, 3, 3, 3, 3, 3, 3, 3, 2, 3,\n",
       "        3, 2, 2, 3, 3, 3, 3, 3, 3, 3, 3, 3, 3, 3, 3, 3, 2, 3, 3, 3, 3, 3, 3, 3,\n",
       "        3, 3, 3, 3, 3, 3, 3, 2, 3, 3, 3, 3, 3, 3, 3, 3, 3, 3, 3, 3, 3, 3, 3, 2,\n",
       "        3, 3, 3, 3, 3, 3, 3, 2, 3, 3, 2, 3, 3, 2, 3, 3, 3, 2, 3, 3, 3, 3, 3, 3,\n",
       "        2, 3, 3, 2, 3, 3, 2, 3, 3, 2, 3, 3, 3, 3, 3, 3, 3, 3, 3, 3, 3, 3, 3, 3,\n",
       "        3, 3, 3, 3, 3, 3, 3, 3, 3, 2, 3, 3, 3, 3, 3, 3, 3, 3, 3, 3, 3, 3, 3, 3,\n",
       "        3, 3, 3, 3, 3, 3, 2, 3, 3, 3, 3, 3, 3, 3, 3, 3])"
      ]
     },
     "execution_count": 27,
     "metadata": {},
     "output_type": "execute_result"
    }
   ],
   "source": [
    "torch.argmax(Y, axis = 1)"
   ]
  },
  {
   "cell_type": "code",
   "execution_count": 17,
   "id": "27405ca0",
   "metadata": {},
   "outputs": [
    {
     "name": "stderr",
     "output_type": "stream",
     "text": [
      "/tmp/ipykernel_1533739/2751404793.py:26: UserWarning: Implicit dimension choice for softmax has been deprecated. Change the call to include dim=X as an argument.\n",
      "  predict = nn.Softmax()(self.Den2(enc_output))\n"
     ]
    },
    {
     "data": {
      "text/plain": [
       "tensor(0.6075)"
      ]
     },
     "execution_count": 17,
     "metadata": {},
     "output_type": "execute_result"
    }
   ],
   "source": [
    "(torch.argmax(MODEL(X_test), axis = 1) == y_test).sum()/y_test.shape[0]"
   ]
  },
  {
   "cell_type": "code",
   "execution_count": 18,
   "id": "01e02ea8",
   "metadata": {},
   "outputs": [
    {
     "name": "stderr",
     "output_type": "stream",
     "text": [
      "/tmp/ipykernel_1533739/2751404793.py:26: UserWarning: Implicit dimension choice for softmax has been deprecated. Change the call to include dim=X as an argument.\n",
      "  predict = nn.Softmax()(self.Den2(enc_output))\n"
     ]
    },
    {
     "data": {
      "text/plain": [
       "tensor(0.5975)"
      ]
     },
     "execution_count": 18,
     "metadata": {},
     "output_type": "execute_result"
    }
   ],
   "source": [
    "(torch.argmax(model(X_test), axis = 1) == y_test).sum()/y_test.shape[0]"
   ]
  }
 ],
 "metadata": {
  "kernelspec": {
   "display_name": "Python 3 (ipykernel)",
   "language": "python",
   "name": "python3"
  },
  "language_info": {
   "codemirror_mode": {
    "name": "ipython",
    "version": 3
   },
   "file_extension": ".py",
   "mimetype": "text/x-python",
   "name": "python",
   "nbconvert_exporter": "python",
   "pygments_lexer": "ipython3",
   "version": "3.8.10"
  }
 },
 "nbformat": 4,
 "nbformat_minor": 5
}
